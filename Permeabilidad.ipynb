{
  "cells": [
    {
      "cell_type": "markdown",
      "metadata": {
        "id": "view-in-github",
        "colab_type": "text"
      },
      "source": [
        "<a href=\"https://colab.research.google.com/github/RosendOcana/AlgoritmosDeML/blob/main/Permeabilidad.ipynb\" target=\"_parent\"><img src=\"https://colab.research.google.com/assets/colab-badge.svg\" alt=\"Open In Colab\"/></a>"
      ]
    },
    {
      "cell_type": "markdown",
      "source": [
        "Hay que subir la carpeta completa de archivos de este [link](https://drive.google.com/drive/folders/1AHL0hQwldsxGREi-jUYnJA-kMkkjtZga?usp=sharing) para que las rutas coincidan, la línea de código:\n",
        "\n",
        "```\n",
        "drive.mount('/content/drive')\n",
        "```\n",
        "Le pedirá permisos para acceder a su drive y llamar los archivos perme.csv y registros_prueba.csv\n"
      ],
      "metadata": {
        "id": "myd9F1J5CQ1B"
      }
    },
    {
      "cell_type": "code",
      "execution_count": null,
      "metadata": {
        "colab": {
          "background_save": true
        },
        "id": "X0KNyOJQ__UB",
        "outputId": "a4354c23-2268-4bf5-bbea-62137a8f23c0"
      },
      "outputs": [
        {
          "name": "stdout",
          "output_type": "stream",
          "text": [
            "Mounted at /content/drive\n"
          ]
        }
      ],
      "source": [
        "from csv import DictReader\n",
        "import numpy as np\n",
        "import numpy.lib.recfunctions as rfn\n",
        "from google.colab import drive\n",
        "drive.mount('/content/drive')"
      ]
    },
    {
      "cell_type": "code",
      "execution_count": null,
      "metadata": {
        "colab": {
          "background_save": true
        },
        "id": "lFh80WKT__Ug"
      },
      "outputs": [],
      "source": [
        "reader = DictReader(open('/content/drive/MyDrive/Permeabilidad/perme.csv'))\n",
        "dtype = np.dtype([('Prof','f4'),('Poro','f4'),('Perme','f4')])\n",
        "datos_duros = np.array([tuple([val for key,val in dic.items()]) for dic in reader],dtype=dtype)"
      ]
    },
    {
      "cell_type": "code",
      "execution_count": null,
      "metadata": {
        "colab": {
          "background_save": true
        },
        "id": "fTmbPriU__Uk"
      },
      "outputs": [],
      "source": [
        "reader_2 = DictReader(open('/content/drive/MyDrive/Permeabilidad/registros_prueba.csv'))\n",
        "dtype_re = np.dtype([(name,'f4') for name in reader_2.fieldnames])\n",
        "registros = np.array([tuple([val for key,val in dic.items()]) for dic in reader_2],dtype=dtype_re)"
      ]
    },
    {
      "cell_type": "code",
      "execution_count": null,
      "metadata": {
        "colab": {
          "background_save": true
        },
        "id": "cRBqLZNc__Ut",
        "outputId": "928ee024-6e35-4cb3-cc5b-086f26c8f868"
      },
      "outputs": [
        {
          "name": "stdout",
          "output_type": "stream",
          "text": [
            "Pendiente: -0.1 | Intercepto: 8.0\n"
          ]
        }
      ],
      "source": [
        "#Escalamiento del GR\n",
        "def Rescalar(Curva:np.ndarray,rangos:dict) -> np.ndarray:\n",
        "    \"\"\"\n",
        "    Rescala de manera lineal, utilizando los rangos, cualquier curva de entrada.\\n\n",
        "    Primero convertirá los rangos p1 y p2 a logaritmo para calcular la pendiente.\n",
        "    :param Curva: Numpy Array Curva a rescalar (GR,DT,RHOB,NPHI...)\n",
        "    :param rangos: dict rangos para rescalar\n",
        "    >>> rangos = {'g1':50,'g2':100,'p1':0.01,'p2':1000}\n",
        "    \"\"\"\n",
        "    pendiente = (np.log10(rangos['p2'])-np.log10(rangos['p1'])) / (rangos['g1']- rangos['g2'])\n",
        "    intercepto = np.log10(rangos['p2']) - rangos['g1']*pendiente\n",
        "    print(f\"Pendiente: {pendiente} | Intercepto: {intercepto}\")\n",
        "    return 10**(intercepto + Curva*pendiente)\n",
        "\n",
        "GR_escalado = Rescalar(registros['GR'],dict(p1=0.01,p2=1000,g1=50,g2=100))\n"
      ]
    },
    {
      "cell_type": "code",
      "execution_count": null,
      "metadata": {
        "id": "RI_LsjrY__U5"
      },
      "outputs": [],
      "source": [
        "def Añadir(datos_duros:np.ndarray,registros:np.ndarray,curva:str,duro:str) -> np.ndarray:\n",
        "    \"\"\"\n",
        "    Creará una curva con los datos de Nucleo utilizando las profundidades de registro\n",
        "    \"\"\"\n",
        "    registros = rfn.append_fields(registros,curva,np.full_like(registros['DEPTH'],np.nan),dtypes='f4')\n",
        "    Profundides = np.unique(np.round(datos_duros['Prof']))\n",
        "    for idx,prof in enumerate(Profundides):\n",
        "        registros[curva][registros['DEPTH']==prof] = datos_duros[duro][idx]\n",
        "    return np.ma.getdata(registros)\n",
        "registros = Añadir(datos_duros,registros,'PermNuc','Perme')\n",
        "registros = Añadir(datos_duros,registros,'PoroNuc','Poro')"
      ]
    },
    {
      "cell_type": "code",
      "execution_count": null,
      "metadata": {
        "id": "gGzqunya__VA"
      },
      "outputs": [],
      "source": [
        "import plotly.graph_objects as go\n",
        "from plotly.subplots import make_subplots\n",
        "fig = make_subplots(rows=2,cols=2,shared_xaxes=True,specs=[[{\"secondary_y\": True},{\"secondary_y\": True}],\n",
        "[{\"colspan\": 2},None]],subplot_titles=('Gamma no invertido','Gamma invertido'))\n",
        "fig.add_trace(go.Scatter(x=registros['DEPTH'],y=registros['GR'],name='Gamma',legendgroup='group1',line_color='green'),row=1,col=1)\n",
        "fig.add_trace(go.Scatter(x=registros['DEPTH'],y=registros['PermNuc'],name='Nucleo',legendgroup='group2',mode='markers',marker={'color':'red'},yaxis='y2'),row=1,col=1,secondary_y=True)\n",
        "#\n",
        "fig.add_trace(go.Scatter(x=registros['DEPTH'],y=GR_escalado,legendgroup='group1',showlegend=False,line_color='green'),row=1,col=2)\n",
        "fig.add_trace(go.Scatter(x=registros['DEPTH'],y=registros['PermNuc'],legendgroup='group2',showlegend=False,mode='markers',marker={'color':'red'},yaxis='y3'),row=1,col=2,secondary_y=True)\n",
        "#\n",
        "fig.add_trace(go.Scatter(x=registros['PoroNuc'],y=registros['PermNuc'],mode='markers',showlegend=False,legendgroup='group2',marker={'color':'red'}),row=2,col=1)\n",
        "fig.add_trace(go.Scatter(x=registros['PoroNuc'],y=GR_escalado,mode='markers',legendgroup='group2',marker={'color':'yellow'},name='Propagados'),row=2,col=1)\n",
        "#\n",
        "fig.update_layout(yaxis2={'type':'log','range':[-3,3]},yaxis3={'type':'log','range':[-3,3]},yaxis4={'type':'log','range':[-3,3]},yaxis5={'type':'log','range':[-3,3]})\n",
        "fig.show()"
      ]
    },
    {
      "cell_type": "code",
      "execution_count": null,
      "metadata": {
        "colab": {
          "background_save": true
        },
        "id": "5y-utzU8__VN"
      },
      "outputs": [],
      "source": [
        "from abc import abstractmethod,ABC\n",
        "class Regresion(ABC):\n",
        "    def __init__(self,X:np.ndarray,y:np.ndarray) -> None:\n",
        "        if X.ndim < 2:\n",
        "            print(f'El array tiene forma {X.shape}, haciendo reshape...')\n",
        "            self.X = X.reshape(-1,1)\n",
        "        else:\n",
        "            self.X = X\n",
        "            \n",
        "        if y.ndim < 2:\n",
        "            self.y = y.reshape(-1,1)\n",
        "        else:\n",
        "            self.y = y\n",
        "\n",
        "    def descenso(self,iteraciones:int=500,lr:int=0.02):\n",
        "        self.teta = np.ones((self.X.shape[1],1))\n",
        "        y_pred = np.ones_like(self.y)\n",
        "        cons = lr/len(self.X)\n",
        "        for _ in range(iteraciones + 1):\n",
        "            self.teta -= cons * self.X.T@(y_pred - self.y)\n",
        "            try:\n",
        "                y_pred = self.X@self.teta\n",
        "            except ValueError:\n",
        "                print(f'Dimensiones incorrectas, trabajando en ello...')\n",
        "                y_pred = self.X@self.teta.reshape(-1,1)\n",
        "        return self\n",
        "                \n",
        "    def predecir(self,**kargs):\n",
        "        if isinstance(kargs['X'],np.ndarray):\n",
        "            try:\n",
        "                return kargs['X']@self.teta\n",
        "            except ValueError as ex:\n",
        "                print(f'Dimensiones incorrectas')\n",
        "        else:\n",
        "            print(f'¡La entrada debe ser un array!')\n",
        "    @abstractmethod\n",
        "    def PHI(self):\n",
        "        ..."
      ]
    },
    {
      "cell_type": "code",
      "execution_count": null,
      "metadata": {
        "colab": {
          "background_save": true
        },
        "id": "X2ovWKJy__VT"
      },
      "outputs": [],
      "source": [
        "from itertools import starmap,cycle\n",
        "class rbf(Regresion):\n",
        "    \"\"\"\n",
        "    Regresión con funciones base radiales\n",
        "    \"\"\"\n",
        "    def __init__(self, X: np.ndarray, y: np.ndarray,mu:int=10,sigma:int=1) -> None:\n",
        "        super().__init__(X, y)\n",
        "        self.mu = mu\n",
        "        self.sigma = sigma\n",
        "    def PHI(self) -> np.ndarray:\n",
        "        filas,columnas = self.X.shape\n",
        "        gauss = lambda x,mu,sig=self.sigma: np.exp(-(1/2*sig**2)*(x-mu)**2)\n",
        "        rango = np.linspace(-2,2,self.mu)\n",
        "        phi_matriz = np.repeat(self.X,len(rango))\n",
        "        phi_matriz = phi_matriz.reshape(filas,columnas*len(rango))\n",
        "        for f in np.arange(0,filas):\n",
        "            phi_matriz[f,:] = [i for i in starmap(gauss,zip(phi_matriz[f,:],cycle(rango)))]\n",
        "        self.X = np.hstack((np.ones((filas,1)),phi_matriz))\n",
        "        return self\n",
        "\n",
        "class poly(Regresion):\n",
        "    \"\"\"\n",
        "    Regresión con términos polinomiales\n",
        "    \"\"\"\n",
        "    def __init__(self, X: np.ndarray, y: np.ndarray,grado:int) -> None:\n",
        "        self.grado = grado\n",
        "        super().__init__(X, y)\n",
        "    def PHI(self) -> np.ndarray:\n",
        "        filas,columnas = self.X.shape\n",
        "        phi_matriz = np.repeat(self.X,self.grado)\n",
        "        phi_matriz = phi_matriz.reshape(filas,columnas*self.grado)\n",
        "        rango = np.arange(1,self.grado+1)\n",
        "        for f in np.arange(0,filas):\n",
        "            phi_matriz[f,:] = [i for i in starmap(pow,zip(phi_matriz[f,:],cycle(rango)))]\n",
        "        self.X = np.hstack((np.ones_like(self.y),phi_matriz))\n",
        "        return self"
      ]
    },
    {
      "cell_type": "code",
      "execution_count": null,
      "metadata": {
        "colab": {
          "background_save": true
        },
        "id": "UrBY-5ff__Va"
      },
      "outputs": [],
      "source": [
        "class Red(Regresion):\n",
        "    def __init__(self, X: np.ndarray, y: np.ndarray,neuronas:int) -> None:\n",
        "        super().__init__(X, y)\n",
        "        self.neuronas = {'entrada':self.X.shape[1],'oculta':neuronas}\n",
        "        self.neuronas['Teta1'] = np.random.normal(size=(self.neuronas['oculta'],self.neuronas['entrada']))\n",
        "        self.neuronas['bias1'] = np.random.normal(size=(self.neuronas['oculta'],1))\n",
        "        self.neuronas['Teta2'] = np.random.normal(size=(1,self.neuronas['oculta']))\n",
        "        self.neuronas['bias2'] = np.random.normal(size=(1))\n",
        "    \n",
        "    def RELU(self,Z):\n",
        "        return np.maximum(Z, 0)\n",
        "    def RELU_der(self,Z):\n",
        "        return Z>0\n",
        "\n",
        "    def PHI(self):\n",
        "        #Capa entrada\n",
        "        try:\n",
        "            self.neuronas['Z1'] = self.neuronas['Teta1']@self.X.T \n",
        "        except ValueError as e:\n",
        "            print(f'Las dimensiones no son compatibles {e.args}')\n",
        "        self.neuronas['a2'] = self.RELU(self.neuronas['Z1']) + self.neuronas['bias1']\n",
        "\n",
        "        #Capa de salida\n",
        "        try:\n",
        "            self.neuronas['Z2'] = self.neuronas['Teta2']@self.neuronas['a2'] \n",
        "        except ValueError as e:\n",
        "            print(f'Las dimensiones no son compatibles {e.args}')\n",
        "        self.neuronas['a3'] = self.neuronas['Z2'] + self.neuronas['bias2']\n",
        "        self.neuronas['a3'].shape = self.y.shape\n",
        "        return self\n",
        "\n",
        "    def backprogation(self):\n",
        "        self.back = {}\n",
        "        norma = (1/len(self.X))\n",
        "        #Error de la capa de salida\n",
        "        self.back['dz3'] = self.neuronas['a3'] - self.y\n",
        "        try:\n",
        "            self.back['dteta2'] = self.neuronas['a2']@self.back['dz3'] * norma\n",
        "        except ValueError:\n",
        "            print(f'Las dimensiones no son compatibles para dteta2')\n",
        "        self.back['dbias2'] = np.sum(self.back['dz3']) * norma\n",
        "\n",
        "        #Error de la capa oculta\n",
        "        try:\n",
        "            self.back['dz2'] = (self.back['dz3']@self.neuronas['Teta2']).T * self.RELU_der(self.neuronas['a2'])\n",
        "        except ValueError:\n",
        "            print(f'Las dimensiones no son compatibles para dz2')\n",
        "        try:\n",
        "            self.back['dteta1'] = self.back['dz2']@self.X * norma\n",
        "        except ValueError:\n",
        "                print(f'Las dimensiones no son compatibles para dteta1')\n",
        "        self.back['dbias1'] = np.sum(self.back['dz2'],axis=1) * norma\n",
        "\n",
        "        self.back['dteta2'].shape = self.neuronas['Teta2'].shape\n",
        "        self.back['dteta1'].shape = self.neuronas['Teta1'].shape\n",
        "        self.back['dbias1'].shape = self.neuronas['bias1'].shape\n",
        "\n",
        "        return self\n",
        "    \n",
        "    def actualizar(self,lr):\n",
        "        self.neuronas['Teta1'] -= lr*self.back['dteta1']\n",
        "        self.neuronas['bias1'] -= lr*self.back['dbias1']\n",
        "        self.neuronas['Teta2'] -= lr*self.back['dteta2']\n",
        "        self.neuronas['bias2'] -= lr*self.back['dbias2']"
      ]
    },
    {
      "cell_type": "code",
      "execution_count": null,
      "metadata": {
        "colab": {
          "background_save": true
        },
        "id": "Sqr4Y9-N__Vg"
      },
      "outputs": [],
      "source": [
        "#Escalamiento del dato de entrada y r2_score\n",
        "from sklearn.metrics import r2_score\n",
        "from sklearn.preprocessing import MinMaxScaler\n",
        "scaler = MinMaxScaler()\n",
        "#X_escalado = scaler.fit_transform(registros['NPHI'].reshape(-1,1))"
      ]
    },
    {
      "cell_type": "code",
      "execution_count": null,
      "metadata": {
        "colab": {
          "background_save": true
        },
        "id": "6goephEMoT_s"
      },
      "outputs": [],
      "source": [
        "#Generar pseudo-registro de permeabilidad\n",
        "r = rbf(datos_duros['Poro'].reshape(-1,1),np.log(datos_duros['Perme']))\n",
        "r.X = np.hstack((np.ones_like(r.y),r.X))\n",
        "r.descenso(800,1.1)\n",
        "fig = go.Figure(go.Scatter(x=datos_duros['Poro'],y=np.log(datos_duros['Perme']),mode='markers'))\n",
        "fig.add_trace(go.Scatter(x=datos_duros['Poro'],y=(r.X@r.teta).flatten()))\n",
        "#fig.show()\n",
        "#np.hstack((np.ones((183,1)),registros['PhiE'].reshape(-1,1)))@r.teta\n",
        "phit = np.exp(r.teta[0])*np.exp(r.teta[1]*registros['PhiE'])"
      ]
    },
    {
      "cell_type": "code",
      "execution_count": null,
      "metadata": {
        "colab": {
          "background_save": true
        },
        "id": "uk6zgkuTK75r"
      },
      "outputs": [],
      "source": [
        "#Para usar más de un registro\n",
        "X_escalado = scaler.fit_transform(rfn.structured_to_unstructured(registros[['NPHI','RHOB','DT']]))"
      ]
    },
    {
      "cell_type": "code",
      "execution_count": null,
      "metadata": {
        "colab": {
          "background_save": true
        },
        "id": "pfOOiRV7-M_e",
        "outputId": "3def5fee-8508-409f-e0a5-b9c9af254ca9"
      },
      "outputs": [
        {
          "data": {
            "text/plain": [
              "0.9337555370552724"
            ]
          },
          "execution_count": null,
          "metadata": {},
          "output_type": "execute_result"
        }
      ],
      "source": [
        "#RegresiónRBF\n",
        "regre_rbf = rbf(X_escalado,np.log(GR_escalado),mu=35,sigma=2.5)\n",
        "regre_rbf.PHI().descenso(800,0.070)\n",
        "r2_score(regre_rbf.y,regre_rbf.X@regre_rbf.teta)"
      ]
    },
    {
      "cell_type": "code",
      "execution_count": null,
      "metadata": {
        "colab": {
          "background_save": true
        },
        "id": "vHMlszpjGag_",
        "outputId": "f2fb6989-e832-4254-9c0c-8831e04f91b4"
      },
      "outputs": [
        {
          "data": {
            "text/plain": [
              "0.8699424018061057"
            ]
          },
          "execution_count": null,
          "metadata": {},
          "output_type": "execute_result"
        }
      ],
      "source": [
        "#RegresiónLineal (Añade el término independiente)\n",
        "regre_lin = rbf(X_escalado,np.log(GR_escalado))\n",
        "regre_lin.X = np.hstack((np.ones_like(regre_lin.y),regre_lin.X))\n",
        "regre_lin.descenso(800,0.050)\n",
        "r2_score(regre_lin.y,regre_lin.X@regre_lin.teta)"
      ]
    },
    {
      "cell_type": "code",
      "execution_count": null,
      "metadata": {
        "colab": {
          "background_save": true
        },
        "id": "5cJ_Tm-XJT7J",
        "outputId": "b58ab1fb-fe9e-4583-f351-e6fdeb53c7c2"
      },
      "outputs": [
        {
          "data": {
            "text/plain": [
              "0.9011341471194236"
            ]
          },
          "execution_count": null,
          "metadata": {},
          "output_type": "execute_result"
        }
      ],
      "source": [
        "#RegresiónPolinómica\n",
        "regre_poli = poly(X_escalado,np.log(GR_escalado),12)\n",
        "regre_poli.PHI().descenso(800,0.050)\n",
        "r2_score(regre_poli.y,regre_poli.X@regre_poli.teta)"
      ]
    },
    {
      "cell_type": "code",
      "execution_count": null,
      "metadata": {
        "colab": {
          "background_save": true
        },
        "id": "M4VVZ9hm9acX",
        "outputId": "0ea90600-15b3-4c94-bccc-98198e4457c2"
      },
      "outputs": [
        {
          "data": {
            "text/plain": [
              "0.9238054712161009"
            ]
          },
          "execution_count": null,
          "metadata": {},
          "output_type": "execute_result"
        }
      ],
      "source": [
        "#RedNeuronal\n",
        "red = Red(X_escalado,np.log(GR_escalado),5)\n",
        "for _ in range(700):\n",
        "  red.PHI().backprogation().actualizar(0.04)\n",
        "r2_score(np.log(GR_escalado),red.neuronas['a3'])"
      ]
    },
    {
      "cell_type": "code",
      "execution_count": null,
      "metadata": {
        "colab": {
          "base_uri": "https://localhost:8080/",
          "height": 817
        },
        "id": "DW9xUdcKMsmL",
        "outputId": "7cb55a7c-f865-4a34-c03b-ec486e28105f"
      },
      "outputs": [
        {
          "output_type": "display_data",
          "data": {
            "text/html": [
              "<html>\n",
              "<head><meta charset=\"utf-8\" /></head>\n",
              "<body>\n",
              "    <div>\n",
              "            <script src=\"https://cdnjs.cloudflare.com/ajax/libs/mathjax/2.7.5/MathJax.js?config=TeX-AMS-MML_SVG\"></script><script type=\"text/javascript\">if (window.MathJax) {MathJax.Hub.Config({SVG: {font: \"STIX-Web\"}});}</script>\n",
              "                <script type=\"text/javascript\">window.PlotlyConfig = {MathJaxConfig: 'local'};</script>\n",
              "        <script src=\"https://cdn.plot.ly/plotly-latest.min.js\"></script>    \n",
              "            <div id=\"e588e295-2ade-4b56-b8de-9044dde8196c\" class=\"plotly-graph-div\" style=\"height:800px; width:1200px;\"></div>\n",
              "            <script type=\"text/javascript\">\n",
              "                \n",
              "                    window.PLOTLYENV=window.PLOTLYENV || {};\n",
              "                    \n",
              "                if (document.getElementById(\"e588e295-2ade-4b56-b8de-9044dde8196c\")) {\n",
              "                    Plotly.newPlot(\n",
              "                        'e588e295-2ade-4b56-b8de-9044dde8196c',\n",
              "                        [{\"legendgroup\": \"group2\", \"line\": {\"color\": \"red\"}, \"name\": \"Permeabilidad real\", \"showlegend\": true, \"type\": \"scatter\", \"x\": [0.009745408780872822, 0.02061721310019493, 0.013539726845920086, 0.013678539544343948, 0.014796511270105839, 0.0034561329521238804, 0.005269140470772982, 0.014238346368074417, 0.010144493542611599, 0.010456820018589497, 0.032041262835264206, 0.07264074683189392, 0.06267871707677841, 0.057785626500844955, 0.057494889944791794, 0.0393386147916317, 0.07757467776536942, 0.029624437913298607, 0.04585326462984085, 0.05504657328128815, 0.044420164078474045, 0.06792346388101578, 0.019936515018343925, 0.019257938489317894, 0.00816431175917387, 0.011809442192316055, 0.017124157398939133, 0.006276093889027834, 0.022666767239570618, 0.003763567190617323, 0.02079983614385128, 0.005891145672649145, 0.00523938424885273, 0.004646752495318651, 0.008136731572449207, 0.015154779888689518, 0.05081832781434059, 0.011671028099954128, 0.033095553517341614, 62.316062927246094, 245.85545349121094, 587.732666015625, 694.0482177734375, 525.823486328125, 152.90444946289062, 173.7481231689453, 330.9708251953125, 285.92999267578125, 418.7551574707031, 307.64508056640625, 438.2579650878906, 163.1474151611328, 65.98875427246094, 735.9017944335938, 810.2142333984375, 1097.0596923828125, 130.93634033203125, 955.7846069335938, 12.314016342163086, 115.04551696777344, 3.1197524070739746, 5.337399959564209, 220.25706481933594, 26.412538528442383, 13.699671745300293, 5.725588321685791, 34.59394073486328, 0.860794186592102, 4.622748851776123, 25.557024002075195, 53.46995544433594, 4.124300003051758, 3.7762413024902344, 0.062052588909864426, 0.03874450549483299, 0.025913698598742485, 0.6024057269096375, 0.5749097466468811, 0.8418612480163574, 0.18500331044197083, 0.0995381698012352, 0.40999600291252136, 0.21810708940029144, 0.13974280655384064, 0.02911118045449257, 0.04527416080236435, 0.032717421650886536, 0.04339595511555672, 0.0162667166441679, 0.027656016871333122, 0.03484496474266052, 0.016683610156178474, 0.016410406678915024, 0.01956634223461151, 0.0172699224203825, 0.006490224041044712, 0.01359753031283617, 0.0031270121689885855, 0.0036208394449204206, 0.0063056424260139465, 0.005461229011416435, 0.01735561341047287, 0.007419761270284653, 0.012793795205652714, 0.014812213368713856, 0.021591313183307648, 0.01992412842810154, 4.775401592254639, 1.4085112810134888, 0.3366745114326477, 0.3218179941177368, 0.04091568663716316, 0.1208702027797699, 0.04517098143696785, 0.01608714833855629, 0.017116675153374672, 0.010790699161589146, 0.028090517967939377, 0.00856702122837305, 0.028959371149539948, 0.02167254127562046, 0.015526358038187027, 0.02858508937060833, 0.026763897389173508, 0.02916082926094532, 0.005150859709829092, 0.017369186505675316, 0.017384830862283707, 0.023489275947213173, 0.03397812694311142, 0.027098143473267555, 0.016845736652612686, 0.011980080977082253, 0.00725621497258544, 0.004629133269190788, 0.012249828316271305, 0.02799236588180065, 0.02313290350139141, 0.006929304916411638, 0.005706897936761379, 0.009786325506865978, 0.007093328982591629, 0.0024196356534957886, 0.012393936514854431, 0.004014945589005947, 0.006186863407492638, 0.010121151804924011, 0.028562063351273537, 0.6894304752349854, 93.16864013671875, 59.083961486816406, 135.43161010742188, 78.3952865600586, 23.02553939819336, 523.6002807617188, 100.22357177734375, 159.16954040527344, 0.9919494390487671, 0.9529721140861511, 0.6398229598999023, 0.3290937840938568, 3.3285892009735107, 1.301727533340454, 1.1022744178771973, 0.35173842310905457, 0.12065885215997696, 0.20284315943717957, 0.09073186665773392, 0.4611368179321289, 0.45992833375930786, 1.1201590299606323, 2.40718936920166, 0.4112538695335388, 0.13392437994480133, 0.5649765133857727, 0.5083227753639221, 1.1113741397857666, 0.1604572981595993, 0.8566833138465881, 0.525568962097168, 0.15295733511447906, 1.3943123817443848, 1.4838143587112427], \"xaxis\": \"x\", \"y\": [3048.0, 3049.0, 3050.0, 3051.0, 3052.0, 3053.0, 3054.0, 3055.0, 3056.0, 3057.0, 3058.0, 3059.0, 3060.0, 3061.0, 3062.0, 3063.0, 3064.0, 3065.0, 3066.0, 3067.0, 3068.0, 3069.0, 3070.0, 3071.0, 3072.0, 3073.0, 3074.0, 3075.0, 3076.0, 3077.0, 3078.0, 3079.0, 3080.0, 3081.0, 3082.0, 3083.0, 3084.0, 3085.0, 3086.0, 3087.0, 3088.0, 3089.0, 3090.0, 3091.0, 3092.0, 3093.0, 3094.0, 3095.0, 3096.0, 3097.0, 3098.0, 3099.0, 3100.0, 3101.0, 3102.0, 3103.0, 3104.0, 3105.0, 3106.0, 3107.0, 3108.0, 3109.0, 3110.0, 3111.0, 3112.0, 3113.0, 3114.0, 3115.0, 3116.0, 3117.0, 3118.0, 3119.0, 3120.0, 3121.0, 3122.0, 3123.0, 3124.0, 3125.0, 3126.0, 3127.0, 3128.0, 3129.0, 3130.0, 3131.0, 3132.0, 3133.0, 3134.0, 3135.0, 3136.0, 3137.0, 3138.0, 3139.0, 3140.0, 3141.0, 3142.0, 3143.0, 3144.0, 3145.0, 3146.0, 3147.0, 3148.0, 3149.0, 3150.0, 3151.0, 3152.0, 3153.0, 3154.0, 3155.0, 3156.0, 3157.0, 3158.0, 3159.0, 3160.0, 3161.0, 3162.0, 3163.0, 3164.0, 3165.0, 3166.0, 3167.0, 3168.0, 3169.0, 3170.0, 3171.0, 3172.0, 3173.0, 3174.0, 3175.0, 3176.0, 3177.0, 3178.0, 3179.0, 3180.0, 3181.0, 3182.0, 3183.0, 3184.0, 3185.0, 3186.0, 3187.0, 3188.0, 3189.0, 3190.0, 3191.0, 3192.0, 3193.0, 3194.0, 3195.0, 3196.0, 3197.0, 3198.0, 3199.0, 3200.0, 3201.0, 3202.0, 3203.0, 3204.0, 3205.0, 3206.0, 3207.0, 3208.0, 3209.0, 3210.0, 3211.0, 3212.0, 3213.0, 3214.0, 3215.0, 3216.0, 3217.0, 3218.0, 3219.0, 3220.0, 3221.0, 3222.0, 3223.0, 3224.0, 3225.0, 3226.0, 3227.0, 3228.0, 3229.0, 3230.0], \"yaxis\": \"y\"}, {\"legendgroup\": \"group1\", \"line\": {\"color\": \"black\", \"dash\": \"dashdot\", \"width\": 2}, \"name\": \"Permeabilidad inferida\", \"showlegend\": false, \"type\": \"scatter\", \"x\": [0.01184857163749346, 0.016813758158657263, 0.012302393254173892, 0.013444435699824482, 0.01933730687227803, 0.029050752399820006, 0.004922942984377675, 0.010925299815507867, 0.011851423038182193, 0.02251628428562574, 0.017791420946432004, 0.07050146174551586, 0.06238943133526599, 0.07875723517912941, 0.07887945413332997, 0.05646980897009895, 0.02093746535717183, 0.03466664572841215, 0.033539159415778445, 0.08114751245002957, 0.04870796308165098, 0.0473782545269909, 0.022516271949144673, 0.019738230696608957, 0.02545221269506559, 0.013082902954163086, 0.009347037383060674, 0.011293567729909597, 0.027158069714937436, 0.009110711208002173, 0.01289173950506533, 0.007924600094100063, 0.0026609576069833306, 0.003083074127740389, 0.0029842337412270717, 0.005163353347763174, 0.011023961290918077, 0.015329526956412853, 0.2611815111698884, 87.64387860082469, 154.51041217930467, 165.0906311173326, 211.88058554433252, 129.4349552087459, 158.80083302048916, 115.1245432868551, 141.5351980526294, 156.33389892417185, 107.8364221849163, 89.18674824526367, 69.23525310316509, 111.04127241357011, 104.13964569496376, 128.11038838684888, 128.01525991724347, 127.64296200361873, 92.4057624945136, 95.28881907656846, 83.58682712547919, 61.76919294542289, 42.516062727196434, 53.124010350518844, 144.61187559915675, 13.316528711419696, 21.510735517284157, 18.53193854067657, 34.335966509048866, 1.6690990111374906, 14.451002679965729, 19.41326627545966, 15.849796942636237, 2.835354278570863, 0.969006844350358, 0.12891353163806438, 0.03722879465136787, 0.043599174350176, 0.19970164084863518, 0.2659535898957712, 0.3705506731342811, 0.23713002927091031, 0.1933627382505038, 0.11347754310975845, 0.23519453781922825, 0.11331696660504398, 0.13418274750293893, 0.04669651675574195, 0.018275805332913068, 0.017758299542308228, 0.027237845723942413, 0.09048385699428692, 0.1496826482130338, 0.04070219463612752, 0.016243468556743943, 0.020507390917775616, 0.007632413396507829, 0.006605705659759313, 0.01629782325745483, 0.020545920276578637, 0.007014475118174246, 0.00682508751196288, 0.010174932106265064, 0.009378450987572166, 0.026029951143045973, 0.03392410276229581, 0.05731844744321791, 0.04610175818427207, 0.020891814771878268, 7.279895168583295, 26.12775242015738, 16.414731671997416, 2.719414576405203, 0.30167110245401946, 0.39906004933377276, 0.19021347697183366, 0.1978584035086107, 0.03950463684200125, 0.04282740615452658, 0.01984959761595505, 0.055108310222189656, 0.05124321005854901, 0.06627896495362205, 0.01592652312381208, 0.012785909051761466, 0.01299253520081366, 0.005024224626309067, 0.015459187973339379, 0.047970000893906066, 0.030424435055867543, 0.017489251410109166, 0.01723391843458551, 0.038754821437664254, 0.010428233162307041, 0.005020260838766145, 0.005543934582688554, 0.003308339295466669, 0.004672585563600881, 0.010268347524231402, 0.004572278222287622, 0.005445133787190587, 0.0028709768107540745, 0.010331279925489175, 0.016105460425362553, 0.006618091433380103, 0.008104919830224622, 0.013610277969046597, 0.020866518370918092, 0.017489430894085854, 0.014056605450699014, 0.2554814185035365, 13.12416323438403, 19.267546505684916, 24.19969856354955, 5.417580996274462, 19.691085144622686, 13.929288694483436, 8.71668324956044, 8.904321970177898, 1.6886040593043126, 0.7384490376974875, 1.2379962991878062, 0.7000801868173634, 7.928506545549242, 1.7727422428641189, 3.984526222075757, 0.5366947664619406, 0.2147930461724491, 0.16262208170859976, 0.27996539010158894, 0.10000937610930423, 0.07832988954196084, 0.46744116481866166, 1.0594388086215194, 0.05823348728719231, 0.08087198608494815, 0.3868897593397605, 0.1172532138250399, 0.09420074739465581, 0.5549700623783268, 0.5009618086696811, 0.4359148447139776, 0.12673259558058259, 2.3870544552751523, 0.9199841676921584], \"xaxis\": \"x\", \"y\": [3048.0, 3049.0, 3050.0, 3051.0, 3052.0, 3053.0, 3054.0, 3055.0, 3056.0, 3057.0, 3058.0, 3059.0, 3060.0, 3061.0, 3062.0, 3063.0, 3064.0, 3065.0, 3066.0, 3067.0, 3068.0, 3069.0, 3070.0, 3071.0, 3072.0, 3073.0, 3074.0, 3075.0, 3076.0, 3077.0, 3078.0, 3079.0, 3080.0, 3081.0, 3082.0, 3083.0, 3084.0, 3085.0, 3086.0, 3087.0, 3088.0, 3089.0, 3090.0, 3091.0, 3092.0, 3093.0, 3094.0, 3095.0, 3096.0, 3097.0, 3098.0, 3099.0, 3100.0, 3101.0, 3102.0, 3103.0, 3104.0, 3105.0, 3106.0, 3107.0, 3108.0, 3109.0, 3110.0, 3111.0, 3112.0, 3113.0, 3114.0, 3115.0, 3116.0, 3117.0, 3118.0, 3119.0, 3120.0, 3121.0, 3122.0, 3123.0, 3124.0, 3125.0, 3126.0, 3127.0, 3128.0, 3129.0, 3130.0, 3131.0, 3132.0, 3133.0, 3134.0, 3135.0, 3136.0, 3137.0, 3138.0, 3139.0, 3140.0, 3141.0, 3142.0, 3143.0, 3144.0, 3145.0, 3146.0, 3147.0, 3148.0, 3149.0, 3150.0, 3151.0, 3152.0, 3153.0, 3154.0, 3155.0, 3156.0, 3157.0, 3158.0, 3159.0, 3160.0, 3161.0, 3162.0, 3163.0, 3164.0, 3165.0, 3166.0, 3167.0, 3168.0, 3169.0, 3170.0, 3171.0, 3172.0, 3173.0, 3174.0, 3175.0, 3176.0, 3177.0, 3178.0, 3179.0, 3180.0, 3181.0, 3182.0, 3183.0, 3184.0, 3185.0, 3186.0, 3187.0, 3188.0, 3189.0, 3190.0, 3191.0, 3192.0, 3193.0, 3194.0, 3195.0, 3196.0, 3197.0, 3198.0, 3199.0, 3200.0, 3201.0, 3202.0, 3203.0, 3204.0, 3205.0, 3206.0, 3207.0, 3208.0, 3209.0, 3210.0, 3211.0, 3212.0, 3213.0, 3214.0, 3215.0, 3216.0, 3217.0, 3218.0, 3219.0, 3220.0, 3221.0, 3222.0, 3223.0, 3224.0, 3225.0, 3226.0, 3227.0, 3228.0, 3229.0, 3230.0], \"yaxis\": \"y\"}, {\"legendgroup\": \"group3\", \"marker\": {\"color\": \"yellow\", \"line\": {\"width\": 2}, \"size\": 9, \"symbol\": \"triangle-up\"}, \"mode\": \"markers\", \"name\": \"Nucleo\", \"showlegend\": false, \"type\": \"scatter\", \"x\": [null, null, null, null, null, null, null, null, null, null, null, null, null, null, null, null, null, null, null, null, null, null, null, null, null, null, null, null, null, null, null, null, null, null, null, null, null, null, 215.0, 240.0, 405.0, null, null, null, 438.0, null, 446.0, 395.0, null, 285.0, null, null, null, 315.0, null, 87.0, null, null, 371.0, 220.0, 278.0, null, null, null, null, 40.0, null, 1.7000000476837158, null, 19.0, null, null, null, null, null, null, null, null, null, null, null, null, null, null, null, null, null, null, null, null, null, null, null, null, null, null, null, null, null, null, null, null, null, null, null, null, null, 0.800000011920929, 4.699999809265137, 3.700000047683716, 0.8999999761581421, null, null, null, null, null, null, null, null, null, null, null, null, null, null, null, null, null, null, null, null, null, null, null, null, null, null, null, null, null, null, null, null, null, null, null, null, null, null, 2.0999999046325684, null, null, 58.0, null, null, null, null, null, null, null, null, null, null, null, null, null, null, null, null, null, null, null, null, null, null, null, null, null, null, null, null, null, null], \"xaxis\": \"x\", \"y\": [3048.0, 3049.0, 3050.0, 3051.0, 3052.0, 3053.0, 3054.0, 3055.0, 3056.0, 3057.0, 3058.0, 3059.0, 3060.0, 3061.0, 3062.0, 3063.0, 3064.0, 3065.0, 3066.0, 3067.0, 3068.0, 3069.0, 3070.0, 3071.0, 3072.0, 3073.0, 3074.0, 3075.0, 3076.0, 3077.0, 3078.0, 3079.0, 3080.0, 3081.0, 3082.0, 3083.0, 3084.0, 3085.0, 3086.0, 3087.0, 3088.0, 3089.0, 3090.0, 3091.0, 3092.0, 3093.0, 3094.0, 3095.0, 3096.0, 3097.0, 3098.0, 3099.0, 3100.0, 3101.0, 3102.0, 3103.0, 3104.0, 3105.0, 3106.0, 3107.0, 3108.0, 3109.0, 3110.0, 3111.0, 3112.0, 3113.0, 3114.0, 3115.0, 3116.0, 3117.0, 3118.0, 3119.0, 3120.0, 3121.0, 3122.0, 3123.0, 3124.0, 3125.0, 3126.0, 3127.0, 3128.0, 3129.0, 3130.0, 3131.0, 3132.0, 3133.0, 3134.0, 3135.0, 3136.0, 3137.0, 3138.0, 3139.0, 3140.0, 3141.0, 3142.0, 3143.0, 3144.0, 3145.0, 3146.0, 3147.0, 3148.0, 3149.0, 3150.0, 3151.0, 3152.0, 3153.0, 3154.0, 3155.0, 3156.0, 3157.0, 3158.0, 3159.0, 3160.0, 3161.0, 3162.0, 3163.0, 3164.0, 3165.0, 3166.0, 3167.0, 3168.0, 3169.0, 3170.0, 3171.0, 3172.0, 3173.0, 3174.0, 3175.0, 3176.0, 3177.0, 3178.0, 3179.0, 3180.0, 3181.0, 3182.0, 3183.0, 3184.0, 3185.0, 3186.0, 3187.0, 3188.0, 3189.0, 3190.0, 3191.0, 3192.0, 3193.0, 3194.0, 3195.0, 3196.0, 3197.0, 3198.0, 3199.0, 3200.0, 3201.0, 3202.0, 3203.0, 3204.0, 3205.0, 3206.0, 3207.0, 3208.0, 3209.0, 3210.0, 3211.0, 3212.0, 3213.0, 3214.0, 3215.0, 3216.0, 3217.0, 3218.0, 3219.0, 3220.0, 3221.0, 3222.0, 3223.0, 3224.0, 3225.0, 3226.0, 3227.0, 3228.0, 3229.0, 3230.0], \"yaxis\": \"y\"}, {\"legendgroup\": \"group2\", \"line\": {\"color\": \"red\"}, \"name\": \"Permeabilidad real\", \"showlegend\": false, \"type\": \"scatter\", \"x\": [0.009745408780872822, 0.02061721310019493, 0.013539726845920086, 0.013678539544343948, 0.014796511270105839, 0.0034561329521238804, 0.005269140470772982, 0.014238346368074417, 0.010144493542611599, 0.010456820018589497, 0.032041262835264206, 0.07264074683189392, 0.06267871707677841, 0.057785626500844955, 0.057494889944791794, 0.0393386147916317, 0.07757467776536942, 0.029624437913298607, 0.04585326462984085, 0.05504657328128815, 0.044420164078474045, 0.06792346388101578, 0.019936515018343925, 0.019257938489317894, 0.00816431175917387, 0.011809442192316055, 0.017124157398939133, 0.006276093889027834, 0.022666767239570618, 0.003763567190617323, 0.02079983614385128, 0.005891145672649145, 0.00523938424885273, 0.004646752495318651, 0.008136731572449207, 0.015154779888689518, 0.05081832781434059, 0.011671028099954128, 0.033095553517341614, 62.316062927246094, 245.85545349121094, 587.732666015625, 694.0482177734375, 525.823486328125, 152.90444946289062, 173.7481231689453, 330.9708251953125, 285.92999267578125, 418.7551574707031, 307.64508056640625, 438.2579650878906, 163.1474151611328, 65.98875427246094, 735.9017944335938, 810.2142333984375, 1097.0596923828125, 130.93634033203125, 955.7846069335938, 12.314016342163086, 115.04551696777344, 3.1197524070739746, 5.337399959564209, 220.25706481933594, 26.412538528442383, 13.699671745300293, 5.725588321685791, 34.59394073486328, 0.860794186592102, 4.622748851776123, 25.557024002075195, 53.46995544433594, 4.124300003051758, 3.7762413024902344, 0.062052588909864426, 0.03874450549483299, 0.025913698598742485, 0.6024057269096375, 0.5749097466468811, 0.8418612480163574, 0.18500331044197083, 0.0995381698012352, 0.40999600291252136, 0.21810708940029144, 0.13974280655384064, 0.02911118045449257, 0.04527416080236435, 0.032717421650886536, 0.04339595511555672, 0.0162667166441679, 0.027656016871333122, 0.03484496474266052, 0.016683610156178474, 0.016410406678915024, 0.01956634223461151, 0.0172699224203825, 0.006490224041044712, 0.01359753031283617, 0.0031270121689885855, 0.0036208394449204206, 0.0063056424260139465, 0.005461229011416435, 0.01735561341047287, 0.007419761270284653, 0.012793795205652714, 0.014812213368713856, 0.021591313183307648, 0.01992412842810154, 4.775401592254639, 1.4085112810134888, 0.3366745114326477, 0.3218179941177368, 0.04091568663716316, 0.1208702027797699, 0.04517098143696785, 0.01608714833855629, 0.017116675153374672, 0.010790699161589146, 0.028090517967939377, 0.00856702122837305, 0.028959371149539948, 0.02167254127562046, 0.015526358038187027, 0.02858508937060833, 0.026763897389173508, 0.02916082926094532, 0.005150859709829092, 0.017369186505675316, 0.017384830862283707, 0.023489275947213173, 0.03397812694311142, 0.027098143473267555, 0.016845736652612686, 0.011980080977082253, 0.00725621497258544, 0.004629133269190788, 0.012249828316271305, 0.02799236588180065, 0.02313290350139141, 0.006929304916411638, 0.005706897936761379, 0.009786325506865978, 0.007093328982591629, 0.0024196356534957886, 0.012393936514854431, 0.004014945589005947, 0.006186863407492638, 0.010121151804924011, 0.028562063351273537, 0.6894304752349854, 93.16864013671875, 59.083961486816406, 135.43161010742188, 78.3952865600586, 23.02553939819336, 523.6002807617188, 100.22357177734375, 159.16954040527344, 0.9919494390487671, 0.9529721140861511, 0.6398229598999023, 0.3290937840938568, 3.3285892009735107, 1.301727533340454, 1.1022744178771973, 0.35173842310905457, 0.12065885215997696, 0.20284315943717957, 0.09073186665773392, 0.4611368179321289, 0.45992833375930786, 1.1201590299606323, 2.40718936920166, 0.4112538695335388, 0.13392437994480133, 0.5649765133857727, 0.5083227753639221, 1.1113741397857666, 0.1604572981595993, 0.8566833138465881, 0.525568962097168, 0.15295733511447906, 1.3943123817443848, 1.4838143587112427], \"xaxis\": \"x2\", \"y\": [3048.0, 3049.0, 3050.0, 3051.0, 3052.0, 3053.0, 3054.0, 3055.0, 3056.0, 3057.0, 3058.0, 3059.0, 3060.0, 3061.0, 3062.0, 3063.0, 3064.0, 3065.0, 3066.0, 3067.0, 3068.0, 3069.0, 3070.0, 3071.0, 3072.0, 3073.0, 3074.0, 3075.0, 3076.0, 3077.0, 3078.0, 3079.0, 3080.0, 3081.0, 3082.0, 3083.0, 3084.0, 3085.0, 3086.0, 3087.0, 3088.0, 3089.0, 3090.0, 3091.0, 3092.0, 3093.0, 3094.0, 3095.0, 3096.0, 3097.0, 3098.0, 3099.0, 3100.0, 3101.0, 3102.0, 3103.0, 3104.0, 3105.0, 3106.0, 3107.0, 3108.0, 3109.0, 3110.0, 3111.0, 3112.0, 3113.0, 3114.0, 3115.0, 3116.0, 3117.0, 3118.0, 3119.0, 3120.0, 3121.0, 3122.0, 3123.0, 3124.0, 3125.0, 3126.0, 3127.0, 3128.0, 3129.0, 3130.0, 3131.0, 3132.0, 3133.0, 3134.0, 3135.0, 3136.0, 3137.0, 3138.0, 3139.0, 3140.0, 3141.0, 3142.0, 3143.0, 3144.0, 3145.0, 3146.0, 3147.0, 3148.0, 3149.0, 3150.0, 3151.0, 3152.0, 3153.0, 3154.0, 3155.0, 3156.0, 3157.0, 3158.0, 3159.0, 3160.0, 3161.0, 3162.0, 3163.0, 3164.0, 3165.0, 3166.0, 3167.0, 3168.0, 3169.0, 3170.0, 3171.0, 3172.0, 3173.0, 3174.0, 3175.0, 3176.0, 3177.0, 3178.0, 3179.0, 3180.0, 3181.0, 3182.0, 3183.0, 3184.0, 3185.0, 3186.0, 3187.0, 3188.0, 3189.0, 3190.0, 3191.0, 3192.0, 3193.0, 3194.0, 3195.0, 3196.0, 3197.0, 3198.0, 3199.0, 3200.0, 3201.0, 3202.0, 3203.0, 3204.0, 3205.0, 3206.0, 3207.0, 3208.0, 3209.0, 3210.0, 3211.0, 3212.0, 3213.0, 3214.0, 3215.0, 3216.0, 3217.0, 3218.0, 3219.0, 3220.0, 3221.0, 3222.0, 3223.0, 3224.0, 3225.0, 3226.0, 3227.0, 3228.0, 3229.0, 3230.0], \"yaxis\": \"y2\"}, {\"legendgroup\": \"group1\", \"line\": {\"color\": \"black\", \"dash\": \"dashdot\", \"width\": 2}, \"name\": \"Permeabilidad inferida\", \"showlegend\": true, \"type\": \"scatter\", \"x\": [0.029289065882753106, 0.0294860364409814, 0.02093836347019284, 0.019395290330739386, 0.01968483042667766, 0.03668332239423253, 0.011374879166324339, 0.020312372464358745, 0.017930842621629348, 0.025084667450793834, 0.017060275134299988, 0.060105419932699515, 0.05462105017872387, 0.06342934379761278, 0.07005561485634218, 0.037915829441357726, 0.016905460834269737, 0.024757158381221493, 0.026125121279315218, 0.06646948933608605, 0.03709552199800811, 0.04469107739638013, 0.025321408177607058, 0.026561719548745043, 0.031079673331790517, 0.018809540029467, 0.013050795247149753, 0.022337860935081885, 0.022331617552692588, 0.012443070546570288, 0.012593874581163789, 0.01253358269282682, 0.006279738297747298, 0.006773780981936864, 0.006850851855393464, 0.009635103719459269, 0.014704744226097612, 0.01900076020021521, 0.12971324498560755, 85.37328252607219, 280.9743220636468, 422.4977593345944, 1051.843696605862, 205.8506977606891, 369.7957217168718, 191.52012961320438, 228.51663162740343, 290.6500566898768, 127.08052994556654, 124.29361177710784, 71.89051094956592, 144.5263399649292, 121.42357036822419, 238.95457696377068, 256.7801948072681, 222.32170527100737, 106.96451760016625, 164.44781541124055, 81.49554847461087, 47.20419879301123, 24.634875980028216, 34.81343081877661, 290.8468675326901, 6.132682443931282, 11.341410082050267, 8.674253903628752, 25.337709338652992, 0.9360559234307594, 8.290545792818437, 11.316669693148786, 10.585075188103755, 0.6359307595831337, 0.3608236432553536, 0.12729887435538273, 0.04164895541089624, 0.05438358842130518, 0.12642103227135926, 0.2754615647563324, 0.19027302679875657, 0.1329225361056906, 0.08769565008295357, 0.1711373204867797, 0.1736880566042678, 0.06449962208614335, 0.11154856089787835, 0.04373698456615226, 0.026994767194918622, 0.03208071816684712, 0.035949384738498576, 0.08325555815739008, 0.11269295496841683, 0.04445164678832077, 0.02301881013398478, 0.022716366176661573, 0.010119032344291639, 0.011348626218882352, 0.026979342125413513, 0.03379547545149035, 0.01154598184582897, 0.015238998332742754, 0.015489656122684893, 0.017797938266007122, 0.030958098397984142, 0.034292629010254816, 0.03421362299139176, 0.04777203000531132, 0.020385839829875657, 57.33752210955869, 39.20456803912588, 37.18759529651357, 2.2787521691323107, 0.23231713315105615, 0.44395969111644396, 0.17633096132252984, 0.17393782368605254, 0.0314965326487584, 0.048553192951756016, 0.022441179509773142, 0.0557620337471122, 0.04308375462952606, 0.04470073475144987, 0.018712072492724566, 0.015897781716558534, 0.019809945335462625, 0.01101623049008482, 0.02509531958553969, 0.0493788097433075, 0.03763840561912883, 0.02172207239571099, 0.02209784692617112, 0.03801693324473927, 0.01654601795376234, 0.009917730010544353, 0.01145276739489168, 0.008903907491600622, 0.010157565495895674, 0.01828814531419538, 0.007988517948024213, 0.013016127855655856, 0.007707884719141899, 0.01513361917035354, 0.020604014272249564, 0.012130001606785493, 0.013141253213946316, 0.019070302360666157, 0.02404793714726931, 0.019318741385023937, 0.021670281507162888, 0.10399108544377177, 3.644960357243995, 6.705435972633084, 9.67854907236991, 1.2743156869335628, 8.544759838017061, 4.375315041672442, 2.361340257424797, 3.032960376856993, 0.41858182942264927, 0.26722205350503525, 0.39108035380668277, 0.2885971078749303, 2.273154794976863, 0.482547650260532, 1.142494795455988, 0.28225839900531097, 0.18786881940541128, 0.18427976252468314, 0.20686784435512287, 0.0695532467510399, 0.073578472977953, 0.1607952946598551, 0.5071290703075749, 0.055589157417901804, 0.05388846334081925, 0.19807820336923473, 0.0657347298106196, 0.04864849347754582, 0.19499456311410857, 0.21087497918663398, 0.22451009192852792, 0.06755732884043866, 0.7308337354785616, 0.3073369830739347], \"xaxis\": \"x2\", \"y\": [3048.0, 3049.0, 3050.0, 3051.0, 3052.0, 3053.0, 3054.0, 3055.0, 3056.0, 3057.0, 3058.0, 3059.0, 3060.0, 3061.0, 3062.0, 3063.0, 3064.0, 3065.0, 3066.0, 3067.0, 3068.0, 3069.0, 3070.0, 3071.0, 3072.0, 3073.0, 3074.0, 3075.0, 3076.0, 3077.0, 3078.0, 3079.0, 3080.0, 3081.0, 3082.0, 3083.0, 3084.0, 3085.0, 3086.0, 3087.0, 3088.0, 3089.0, 3090.0, 3091.0, 3092.0, 3093.0, 3094.0, 3095.0, 3096.0, 3097.0, 3098.0, 3099.0, 3100.0, 3101.0, 3102.0, 3103.0, 3104.0, 3105.0, 3106.0, 3107.0, 3108.0, 3109.0, 3110.0, 3111.0, 3112.0, 3113.0, 3114.0, 3115.0, 3116.0, 3117.0, 3118.0, 3119.0, 3120.0, 3121.0, 3122.0, 3123.0, 3124.0, 3125.0, 3126.0, 3127.0, 3128.0, 3129.0, 3130.0, 3131.0, 3132.0, 3133.0, 3134.0, 3135.0, 3136.0, 3137.0, 3138.0, 3139.0, 3140.0, 3141.0, 3142.0, 3143.0, 3144.0, 3145.0, 3146.0, 3147.0, 3148.0, 3149.0, 3150.0, 3151.0, 3152.0, 3153.0, 3154.0, 3155.0, 3156.0, 3157.0, 3158.0, 3159.0, 3160.0, 3161.0, 3162.0, 3163.0, 3164.0, 3165.0, 3166.0, 3167.0, 3168.0, 3169.0, 3170.0, 3171.0, 3172.0, 3173.0, 3174.0, 3175.0, 3176.0, 3177.0, 3178.0, 3179.0, 3180.0, 3181.0, 3182.0, 3183.0, 3184.0, 3185.0, 3186.0, 3187.0, 3188.0, 3189.0, 3190.0, 3191.0, 3192.0, 3193.0, 3194.0, 3195.0, 3196.0, 3197.0, 3198.0, 3199.0, 3200.0, 3201.0, 3202.0, 3203.0, 3204.0, 3205.0, 3206.0, 3207.0, 3208.0, 3209.0, 3210.0, 3211.0, 3212.0, 3213.0, 3214.0, 3215.0, 3216.0, 3217.0, 3218.0, 3219.0, 3220.0, 3221.0, 3222.0, 3223.0, 3224.0, 3225.0, 3226.0, 3227.0, 3228.0, 3229.0, 3230.0], \"yaxis\": \"y2\"}, {\"legendgroup\": \"group3\", \"marker\": {\"color\": \"yellow\", \"line\": {\"width\": 2}, \"size\": 9, \"symbol\": \"triangle-up\"}, \"mode\": \"markers\", \"name\": \"Nucleo\", \"showlegend\": false, \"type\": \"scatter\", \"x\": [null, null, null, null, null, null, null, null, null, null, null, null, null, null, null, null, null, null, null, null, null, null, null, null, null, null, null, null, null, null, null, null, null, null, null, null, null, null, 215.0, 240.0, 405.0, null, null, null, 438.0, null, 446.0, 395.0, null, 285.0, null, null, null, 315.0, null, 87.0, null, null, 371.0, 220.0, 278.0, null, null, null, null, 40.0, null, 1.7000000476837158, null, 19.0, null, null, null, null, null, null, null, null, null, null, null, null, null, null, null, null, null, null, null, null, null, null, null, null, null, null, null, null, null, null, null, null, null, null, null, null, null, 0.800000011920929, 4.699999809265137, 3.700000047683716, 0.8999999761581421, null, null, null, null, null, null, null, null, null, null, null, null, null, null, null, null, null, null, null, null, null, null, null, null, null, null, null, null, null, null, null, null, null, null, null, null, null, null, 2.0999999046325684, null, null, 58.0, null, null, null, null, null, null, null, null, null, null, null, null, null, null, null, null, null, null, null, null, null, null, null, null, null, null, null, null, null, null], \"xaxis\": \"x2\", \"y\": [3048.0, 3049.0, 3050.0, 3051.0, 3052.0, 3053.0, 3054.0, 3055.0, 3056.0, 3057.0, 3058.0, 3059.0, 3060.0, 3061.0, 3062.0, 3063.0, 3064.0, 3065.0, 3066.0, 3067.0, 3068.0, 3069.0, 3070.0, 3071.0, 3072.0, 3073.0, 3074.0, 3075.0, 3076.0, 3077.0, 3078.0, 3079.0, 3080.0, 3081.0, 3082.0, 3083.0, 3084.0, 3085.0, 3086.0, 3087.0, 3088.0, 3089.0, 3090.0, 3091.0, 3092.0, 3093.0, 3094.0, 3095.0, 3096.0, 3097.0, 3098.0, 3099.0, 3100.0, 3101.0, 3102.0, 3103.0, 3104.0, 3105.0, 3106.0, 3107.0, 3108.0, 3109.0, 3110.0, 3111.0, 3112.0, 3113.0, 3114.0, 3115.0, 3116.0, 3117.0, 3118.0, 3119.0, 3120.0, 3121.0, 3122.0, 3123.0, 3124.0, 3125.0, 3126.0, 3127.0, 3128.0, 3129.0, 3130.0, 3131.0, 3132.0, 3133.0, 3134.0, 3135.0, 3136.0, 3137.0, 3138.0, 3139.0, 3140.0, 3141.0, 3142.0, 3143.0, 3144.0, 3145.0, 3146.0, 3147.0, 3148.0, 3149.0, 3150.0, 3151.0, 3152.0, 3153.0, 3154.0, 3155.0, 3156.0, 3157.0, 3158.0, 3159.0, 3160.0, 3161.0, 3162.0, 3163.0, 3164.0, 3165.0, 3166.0, 3167.0, 3168.0, 3169.0, 3170.0, 3171.0, 3172.0, 3173.0, 3174.0, 3175.0, 3176.0, 3177.0, 3178.0, 3179.0, 3180.0, 3181.0, 3182.0, 3183.0, 3184.0, 3185.0, 3186.0, 3187.0, 3188.0, 3189.0, 3190.0, 3191.0, 3192.0, 3193.0, 3194.0, 3195.0, 3196.0, 3197.0, 3198.0, 3199.0, 3200.0, 3201.0, 3202.0, 3203.0, 3204.0, 3205.0, 3206.0, 3207.0, 3208.0, 3209.0, 3210.0, 3211.0, 3212.0, 3213.0, 3214.0, 3215.0, 3216.0, 3217.0, 3218.0, 3219.0, 3220.0, 3221.0, 3222.0, 3223.0, 3224.0, 3225.0, 3226.0, 3227.0, 3228.0, 3229.0, 3230.0], \"yaxis\": \"y2\"}, {\"legendgroup\": \"group2\", \"line\": {\"color\": \"red\"}, \"name\": \"Permeabilidad real\", \"showlegend\": false, \"type\": \"scatter\", \"x\": [0.009745408780872822, 0.02061721310019493, 0.013539726845920086, 0.013678539544343948, 0.014796511270105839, 0.0034561329521238804, 0.005269140470772982, 0.014238346368074417, 0.010144493542611599, 0.010456820018589497, 0.032041262835264206, 0.07264074683189392, 0.06267871707677841, 0.057785626500844955, 0.057494889944791794, 0.0393386147916317, 0.07757467776536942, 0.029624437913298607, 0.04585326462984085, 0.05504657328128815, 0.044420164078474045, 0.06792346388101578, 0.019936515018343925, 0.019257938489317894, 0.00816431175917387, 0.011809442192316055, 0.017124157398939133, 0.006276093889027834, 0.022666767239570618, 0.003763567190617323, 0.02079983614385128, 0.005891145672649145, 0.00523938424885273, 0.004646752495318651, 0.008136731572449207, 0.015154779888689518, 0.05081832781434059, 0.011671028099954128, 0.033095553517341614, 62.316062927246094, 245.85545349121094, 587.732666015625, 694.0482177734375, 525.823486328125, 152.90444946289062, 173.7481231689453, 330.9708251953125, 285.92999267578125, 418.7551574707031, 307.64508056640625, 438.2579650878906, 163.1474151611328, 65.98875427246094, 735.9017944335938, 810.2142333984375, 1097.0596923828125, 130.93634033203125, 955.7846069335938, 12.314016342163086, 115.04551696777344, 3.1197524070739746, 5.337399959564209, 220.25706481933594, 26.412538528442383, 13.699671745300293, 5.725588321685791, 34.59394073486328, 0.860794186592102, 4.622748851776123, 25.557024002075195, 53.46995544433594, 4.124300003051758, 3.7762413024902344, 0.062052588909864426, 0.03874450549483299, 0.025913698598742485, 0.6024057269096375, 0.5749097466468811, 0.8418612480163574, 0.18500331044197083, 0.0995381698012352, 0.40999600291252136, 0.21810708940029144, 0.13974280655384064, 0.02911118045449257, 0.04527416080236435, 0.032717421650886536, 0.04339595511555672, 0.0162667166441679, 0.027656016871333122, 0.03484496474266052, 0.016683610156178474, 0.016410406678915024, 0.01956634223461151, 0.0172699224203825, 0.006490224041044712, 0.01359753031283617, 0.0031270121689885855, 0.0036208394449204206, 0.0063056424260139465, 0.005461229011416435, 0.01735561341047287, 0.007419761270284653, 0.012793795205652714, 0.014812213368713856, 0.021591313183307648, 0.01992412842810154, 4.775401592254639, 1.4085112810134888, 0.3366745114326477, 0.3218179941177368, 0.04091568663716316, 0.1208702027797699, 0.04517098143696785, 0.01608714833855629, 0.017116675153374672, 0.010790699161589146, 0.028090517967939377, 0.00856702122837305, 0.028959371149539948, 0.02167254127562046, 0.015526358038187027, 0.02858508937060833, 0.026763897389173508, 0.02916082926094532, 0.005150859709829092, 0.017369186505675316, 0.017384830862283707, 0.023489275947213173, 0.03397812694311142, 0.027098143473267555, 0.016845736652612686, 0.011980080977082253, 0.00725621497258544, 0.004629133269190788, 0.012249828316271305, 0.02799236588180065, 0.02313290350139141, 0.006929304916411638, 0.005706897936761379, 0.009786325506865978, 0.007093328982591629, 0.0024196356534957886, 0.012393936514854431, 0.004014945589005947, 0.006186863407492638, 0.010121151804924011, 0.028562063351273537, 0.6894304752349854, 93.16864013671875, 59.083961486816406, 135.43161010742188, 78.3952865600586, 23.02553939819336, 523.6002807617188, 100.22357177734375, 159.16954040527344, 0.9919494390487671, 0.9529721140861511, 0.6398229598999023, 0.3290937840938568, 3.3285892009735107, 1.301727533340454, 1.1022744178771973, 0.35173842310905457, 0.12065885215997696, 0.20284315943717957, 0.09073186665773392, 0.4611368179321289, 0.45992833375930786, 1.1201590299606323, 2.40718936920166, 0.4112538695335388, 0.13392437994480133, 0.5649765133857727, 0.5083227753639221, 1.1113741397857666, 0.1604572981595993, 0.8566833138465881, 0.525568962097168, 0.15295733511447906, 1.3943123817443848, 1.4838143587112427], \"xaxis\": \"x3\", \"y\": [3048.0, 3049.0, 3050.0, 3051.0, 3052.0, 3053.0, 3054.0, 3055.0, 3056.0, 3057.0, 3058.0, 3059.0, 3060.0, 3061.0, 3062.0, 3063.0, 3064.0, 3065.0, 3066.0, 3067.0, 3068.0, 3069.0, 3070.0, 3071.0, 3072.0, 3073.0, 3074.0, 3075.0, 3076.0, 3077.0, 3078.0, 3079.0, 3080.0, 3081.0, 3082.0, 3083.0, 3084.0, 3085.0, 3086.0, 3087.0, 3088.0, 3089.0, 3090.0, 3091.0, 3092.0, 3093.0, 3094.0, 3095.0, 3096.0, 3097.0, 3098.0, 3099.0, 3100.0, 3101.0, 3102.0, 3103.0, 3104.0, 3105.0, 3106.0, 3107.0, 3108.0, 3109.0, 3110.0, 3111.0, 3112.0, 3113.0, 3114.0, 3115.0, 3116.0, 3117.0, 3118.0, 3119.0, 3120.0, 3121.0, 3122.0, 3123.0, 3124.0, 3125.0, 3126.0, 3127.0, 3128.0, 3129.0, 3130.0, 3131.0, 3132.0, 3133.0, 3134.0, 3135.0, 3136.0, 3137.0, 3138.0, 3139.0, 3140.0, 3141.0, 3142.0, 3143.0, 3144.0, 3145.0, 3146.0, 3147.0, 3148.0, 3149.0, 3150.0, 3151.0, 3152.0, 3153.0, 3154.0, 3155.0, 3156.0, 3157.0, 3158.0, 3159.0, 3160.0, 3161.0, 3162.0, 3163.0, 3164.0, 3165.0, 3166.0, 3167.0, 3168.0, 3169.0, 3170.0, 3171.0, 3172.0, 3173.0, 3174.0, 3175.0, 3176.0, 3177.0, 3178.0, 3179.0, 3180.0, 3181.0, 3182.0, 3183.0, 3184.0, 3185.0, 3186.0, 3187.0, 3188.0, 3189.0, 3190.0, 3191.0, 3192.0, 3193.0, 3194.0, 3195.0, 3196.0, 3197.0, 3198.0, 3199.0, 3200.0, 3201.0, 3202.0, 3203.0, 3204.0, 3205.0, 3206.0, 3207.0, 3208.0, 3209.0, 3210.0, 3211.0, 3212.0, 3213.0, 3214.0, 3215.0, 3216.0, 3217.0, 3218.0, 3219.0, 3220.0, 3221.0, 3222.0, 3223.0, 3224.0, 3225.0, 3226.0, 3227.0, 3228.0, 3229.0, 3230.0], \"yaxis\": \"y3\"}, {\"legendgroup\": \"group1\", \"line\": {\"color\": \"black\", \"dash\": \"dashdot\", \"width\": 2}, \"name\": \"Permeabilidad inferida\", \"showlegend\": false, \"type\": \"scatter\", \"x\": [0.006071394981639455, 0.010122180404647591, 0.011046660673181679, 0.017870438925803145, 0.02306987734684245, 0.013998884949116268, 0.00622873995370915, 0.007480623700135029, 0.010952926978908636, 0.01987461387803928, 0.027170711230534574, 0.17075947106422495, 0.18257348839911144, 0.18178371313488761, 0.12391838755759045, 0.06545725920703928, 0.03258078074978419, 0.04813836273428142, 0.044261521136854706, 0.16076431544394218, 0.059683707368670354, 0.07593186687567699, 0.025046812133363953, 0.015098739026867335, 0.022968943573512635, 0.011523631457370056, 0.012049144992059491, 0.006763352967019262, 0.03399437734361955, 0.014221839717196693, 0.024103381613567166, 0.010636669931312103, 0.006958973665635116, 0.0077844494420304285, 0.006874392951775474, 0.008743244217643267, 0.014160005173256027, 0.01529812575183656, 0.1821389884692697, 139.00008024036285, 291.06505742779865, 474.8219626058823, 736.5499213097946, 351.40582471777145, 249.98564562953473, 153.55865668705584, 262.8147333767684, 270.658122053598, 170.91386593073344, 274.0790528480844, 77.40583143327359, 143.49005936307205, 130.75290548452466, 385.6397044594755, 414.40905005034824, 292.7992210510466, 259.78570154692954, 483.37073679439527, 215.73964173827062, 64.33389197009517, 108.82259666667858, 109.3009624730509, 199.87552713255388, 5.0604497242590565, 9.492728422506874, 8.109643375407664, 20.560131387011136, 0.8717843113623343, 5.279253134667789, 14.246751143445364, 7.5476474952196035, 7.7091817197466375, 0.9726361575749427, 0.022707228528001812, 0.02011559466820503, 0.013749423959373114, 0.256189190848444, 0.2781179029907489, 0.3744773830682153, 0.08425077561171591, 0.12592017799723954, 0.3133771963484929, 0.1335814117640906, 0.16137492087844357, 0.03383521947196843, 0.03142149928270659, 0.016443676376309647, 0.012057558050116286, 0.017190285508141948, 0.025477070867798192, 0.05011732450307163, 0.022401676013111875, 0.011675060929400361, 0.018324433860804647, 0.014919271253054934, 0.010198047882468413, 0.009524337630438078, 0.009645102117238478, 0.011978070654755186, 0.006777538880086655, 0.01098386678741336, 0.007442889494324985, 0.01563083710424469, 0.02076943279801817, 0.05763704317500087, 0.019806057733250525, 0.033425507926426734, 2.9879388655988834, 6.196793053946903, 2.901513987463962, 0.300299207374201, 0.16510099150114751, 0.11788984671604245, 0.07605294548182283, 0.048745665537299504, 0.04559205558189298, 0.029885818411184796, 0.019636594375003077, 0.03388881849802741, 0.038312485666474334, 0.04566747599985412, 0.01679779446087264, 0.016952639123329852, 0.011360638898947954, 0.006671633013904618, 0.009477928332311246, 0.020403381298609156, 0.015040941966390468, 0.01488456263934129, 0.01585491712454695, 0.02929703925122625, 0.009761775091748456, 0.006867551908157121, 0.005595058632944841, 0.00496124959265797, 0.006346337710387162, 0.00829557117607696, 0.010972282648707163, 0.005539425470765221, 0.005393354668882745, 0.014453038955872785, 0.01803245117521664, 0.010800948943483709, 0.013369254042020644, 0.01958801440140949, 0.020799066296239368, 0.019799646160820784, 0.010404178209179424, 0.6396291794087164, 47.427253248625675, 60.56760368517663, 119.01989852569965, 19.046353215659774, 92.31496823771766, 64.38630201254804, 18.72865595864174, 14.320062204436143, 1.8350813740984284, 0.5965983646651982, 1.1657798926474108, 0.5098776067937499, 11.803645925062433, 3.3578519497833397, 6.4982042745552135, 0.6018151845380214, 0.195744491611058, 0.09319360900456114, 0.19976665747500227, 0.14015234808335758, 0.11263996902901892, 0.5139302935220923, 0.9457449333513671, 0.08834040328486195, 0.07515539581001997, 0.2734693812916565, 0.11981118177354717, 0.09056892306316168, 0.3542929758760966, 0.34903714121747154, 0.20106557340360476, 0.10160109595461556, 1.450491909296404, 0.5141773985972354], \"xaxis\": \"x3\", \"y\": [3048.0, 3049.0, 3050.0, 3051.0, 3052.0, 3053.0, 3054.0, 3055.0, 3056.0, 3057.0, 3058.0, 3059.0, 3060.0, 3061.0, 3062.0, 3063.0, 3064.0, 3065.0, 3066.0, 3067.0, 3068.0, 3069.0, 3070.0, 3071.0, 3072.0, 3073.0, 3074.0, 3075.0, 3076.0, 3077.0, 3078.0, 3079.0, 3080.0, 3081.0, 3082.0, 3083.0, 3084.0, 3085.0, 3086.0, 3087.0, 3088.0, 3089.0, 3090.0, 3091.0, 3092.0, 3093.0, 3094.0, 3095.0, 3096.0, 3097.0, 3098.0, 3099.0, 3100.0, 3101.0, 3102.0, 3103.0, 3104.0, 3105.0, 3106.0, 3107.0, 3108.0, 3109.0, 3110.0, 3111.0, 3112.0, 3113.0, 3114.0, 3115.0, 3116.0, 3117.0, 3118.0, 3119.0, 3120.0, 3121.0, 3122.0, 3123.0, 3124.0, 3125.0, 3126.0, 3127.0, 3128.0, 3129.0, 3130.0, 3131.0, 3132.0, 3133.0, 3134.0, 3135.0, 3136.0, 3137.0, 3138.0, 3139.0, 3140.0, 3141.0, 3142.0, 3143.0, 3144.0, 3145.0, 3146.0, 3147.0, 3148.0, 3149.0, 3150.0, 3151.0, 3152.0, 3153.0, 3154.0, 3155.0, 3156.0, 3157.0, 3158.0, 3159.0, 3160.0, 3161.0, 3162.0, 3163.0, 3164.0, 3165.0, 3166.0, 3167.0, 3168.0, 3169.0, 3170.0, 3171.0, 3172.0, 3173.0, 3174.0, 3175.0, 3176.0, 3177.0, 3178.0, 3179.0, 3180.0, 3181.0, 3182.0, 3183.0, 3184.0, 3185.0, 3186.0, 3187.0, 3188.0, 3189.0, 3190.0, 3191.0, 3192.0, 3193.0, 3194.0, 3195.0, 3196.0, 3197.0, 3198.0, 3199.0, 3200.0, 3201.0, 3202.0, 3203.0, 3204.0, 3205.0, 3206.0, 3207.0, 3208.0, 3209.0, 3210.0, 3211.0, 3212.0, 3213.0, 3214.0, 3215.0, 3216.0, 3217.0, 3218.0, 3219.0, 3220.0, 3221.0, 3222.0, 3223.0, 3224.0, 3225.0, 3226.0, 3227.0, 3228.0, 3229.0, 3230.0], \"yaxis\": \"y3\"}, {\"legendgroup\": \"group3\", \"marker\": {\"color\": \"yellow\", \"line\": {\"width\": 2}, \"size\": 9, \"symbol\": \"triangle-up\"}, \"mode\": \"markers\", \"name\": \"Nucleo\", \"showlegend\": true, \"type\": \"scatter\", \"x\": [null, null, null, null, null, null, null, null, null, null, null, null, null, null, null, null, null, null, null, null, null, null, null, null, null, null, null, null, null, null, null, null, null, null, null, null, null, null, 215.0, 240.0, 405.0, null, null, null, 438.0, null, 446.0, 395.0, null, 285.0, null, null, null, 315.0, null, 87.0, null, null, 371.0, 220.0, 278.0, null, null, null, null, 40.0, null, 1.7000000476837158, null, 19.0, null, null, null, null, null, null, null, null, null, null, null, null, null, null, null, null, null, null, null, null, null, null, null, null, null, null, null, null, null, null, null, null, null, null, null, null, null, 0.800000011920929, 4.699999809265137, 3.700000047683716, 0.8999999761581421, null, null, null, null, null, null, null, null, null, null, null, null, null, null, null, null, null, null, null, null, null, null, null, null, null, null, null, null, null, null, null, null, null, null, null, null, null, null, 2.0999999046325684, null, null, 58.0, null, null, null, null, null, null, null, null, null, null, null, null, null, null, null, null, null, null, null, null, null, null, null, null, null, null, null, null, null, null], \"xaxis\": \"x3\", \"y\": [3048.0, 3049.0, 3050.0, 3051.0, 3052.0, 3053.0, 3054.0, 3055.0, 3056.0, 3057.0, 3058.0, 3059.0, 3060.0, 3061.0, 3062.0, 3063.0, 3064.0, 3065.0, 3066.0, 3067.0, 3068.0, 3069.0, 3070.0, 3071.0, 3072.0, 3073.0, 3074.0, 3075.0, 3076.0, 3077.0, 3078.0, 3079.0, 3080.0, 3081.0, 3082.0, 3083.0, 3084.0, 3085.0, 3086.0, 3087.0, 3088.0, 3089.0, 3090.0, 3091.0, 3092.0, 3093.0, 3094.0, 3095.0, 3096.0, 3097.0, 3098.0, 3099.0, 3100.0, 3101.0, 3102.0, 3103.0, 3104.0, 3105.0, 3106.0, 3107.0, 3108.0, 3109.0, 3110.0, 3111.0, 3112.0, 3113.0, 3114.0, 3115.0, 3116.0, 3117.0, 3118.0, 3119.0, 3120.0, 3121.0, 3122.0, 3123.0, 3124.0, 3125.0, 3126.0, 3127.0, 3128.0, 3129.0, 3130.0, 3131.0, 3132.0, 3133.0, 3134.0, 3135.0, 3136.0, 3137.0, 3138.0, 3139.0, 3140.0, 3141.0, 3142.0, 3143.0, 3144.0, 3145.0, 3146.0, 3147.0, 3148.0, 3149.0, 3150.0, 3151.0, 3152.0, 3153.0, 3154.0, 3155.0, 3156.0, 3157.0, 3158.0, 3159.0, 3160.0, 3161.0, 3162.0, 3163.0, 3164.0, 3165.0, 3166.0, 3167.0, 3168.0, 3169.0, 3170.0, 3171.0, 3172.0, 3173.0, 3174.0, 3175.0, 3176.0, 3177.0, 3178.0, 3179.0, 3180.0, 3181.0, 3182.0, 3183.0, 3184.0, 3185.0, 3186.0, 3187.0, 3188.0, 3189.0, 3190.0, 3191.0, 3192.0, 3193.0, 3194.0, 3195.0, 3196.0, 3197.0, 3198.0, 3199.0, 3200.0, 3201.0, 3202.0, 3203.0, 3204.0, 3205.0, 3206.0, 3207.0, 3208.0, 3209.0, 3210.0, 3211.0, 3212.0, 3213.0, 3214.0, 3215.0, 3216.0, 3217.0, 3218.0, 3219.0, 3220.0, 3221.0, 3222.0, 3223.0, 3224.0, 3225.0, 3226.0, 3227.0, 3228.0, 3229.0, 3230.0], \"yaxis\": \"y3\"}, {\"legendgroup\": \"group2\", \"line\": {\"color\": \"red\"}, \"name\": \"Permeabilidad real\", \"showlegend\": false, \"type\": \"scatter\", \"x\": [0.009745408780872822, 0.02061721310019493, 0.013539726845920086, 0.013678539544343948, 0.014796511270105839, 0.0034561329521238804, 0.005269140470772982, 0.014238346368074417, 0.010144493542611599, 0.010456820018589497, 0.032041262835264206, 0.07264074683189392, 0.06267871707677841, 0.057785626500844955, 0.057494889944791794, 0.0393386147916317, 0.07757467776536942, 0.029624437913298607, 0.04585326462984085, 0.05504657328128815, 0.044420164078474045, 0.06792346388101578, 0.019936515018343925, 0.019257938489317894, 0.00816431175917387, 0.011809442192316055, 0.017124157398939133, 0.006276093889027834, 0.022666767239570618, 0.003763567190617323, 0.02079983614385128, 0.005891145672649145, 0.00523938424885273, 0.004646752495318651, 0.008136731572449207, 0.015154779888689518, 0.05081832781434059, 0.011671028099954128, 0.033095553517341614, 62.316062927246094, 245.85545349121094, 587.732666015625, 694.0482177734375, 525.823486328125, 152.90444946289062, 173.7481231689453, 330.9708251953125, 285.92999267578125, 418.7551574707031, 307.64508056640625, 438.2579650878906, 163.1474151611328, 65.98875427246094, 735.9017944335938, 810.2142333984375, 1097.0596923828125, 130.93634033203125, 955.7846069335938, 12.314016342163086, 115.04551696777344, 3.1197524070739746, 5.337399959564209, 220.25706481933594, 26.412538528442383, 13.699671745300293, 5.725588321685791, 34.59394073486328, 0.860794186592102, 4.622748851776123, 25.557024002075195, 53.46995544433594, 4.124300003051758, 3.7762413024902344, 0.062052588909864426, 0.03874450549483299, 0.025913698598742485, 0.6024057269096375, 0.5749097466468811, 0.8418612480163574, 0.18500331044197083, 0.0995381698012352, 0.40999600291252136, 0.21810708940029144, 0.13974280655384064, 0.02911118045449257, 0.04527416080236435, 0.032717421650886536, 0.04339595511555672, 0.0162667166441679, 0.027656016871333122, 0.03484496474266052, 0.016683610156178474, 0.016410406678915024, 0.01956634223461151, 0.0172699224203825, 0.006490224041044712, 0.01359753031283617, 0.0031270121689885855, 0.0036208394449204206, 0.0063056424260139465, 0.005461229011416435, 0.01735561341047287, 0.007419761270284653, 0.012793795205652714, 0.014812213368713856, 0.021591313183307648, 0.01992412842810154, 4.775401592254639, 1.4085112810134888, 0.3366745114326477, 0.3218179941177368, 0.04091568663716316, 0.1208702027797699, 0.04517098143696785, 0.01608714833855629, 0.017116675153374672, 0.010790699161589146, 0.028090517967939377, 0.00856702122837305, 0.028959371149539948, 0.02167254127562046, 0.015526358038187027, 0.02858508937060833, 0.026763897389173508, 0.02916082926094532, 0.005150859709829092, 0.017369186505675316, 0.017384830862283707, 0.023489275947213173, 0.03397812694311142, 0.027098143473267555, 0.016845736652612686, 0.011980080977082253, 0.00725621497258544, 0.004629133269190788, 0.012249828316271305, 0.02799236588180065, 0.02313290350139141, 0.006929304916411638, 0.005706897936761379, 0.009786325506865978, 0.007093328982591629, 0.0024196356534957886, 0.012393936514854431, 0.004014945589005947, 0.006186863407492638, 0.010121151804924011, 0.028562063351273537, 0.6894304752349854, 93.16864013671875, 59.083961486816406, 135.43161010742188, 78.3952865600586, 23.02553939819336, 523.6002807617188, 100.22357177734375, 159.16954040527344, 0.9919494390487671, 0.9529721140861511, 0.6398229598999023, 0.3290937840938568, 3.3285892009735107, 1.301727533340454, 1.1022744178771973, 0.35173842310905457, 0.12065885215997696, 0.20284315943717957, 0.09073186665773392, 0.4611368179321289, 0.45992833375930786, 1.1201590299606323, 2.40718936920166, 0.4112538695335388, 0.13392437994480133, 0.5649765133857727, 0.5083227753639221, 1.1113741397857666, 0.1604572981595993, 0.8566833138465881, 0.525568962097168, 0.15295733511447906, 1.3943123817443848, 1.4838143587112427], \"xaxis\": \"x4\", \"y\": [3048.0, 3049.0, 3050.0, 3051.0, 3052.0, 3053.0, 3054.0, 3055.0, 3056.0, 3057.0, 3058.0, 3059.0, 3060.0, 3061.0, 3062.0, 3063.0, 3064.0, 3065.0, 3066.0, 3067.0, 3068.0, 3069.0, 3070.0, 3071.0, 3072.0, 3073.0, 3074.0, 3075.0, 3076.0, 3077.0, 3078.0, 3079.0, 3080.0, 3081.0, 3082.0, 3083.0, 3084.0, 3085.0, 3086.0, 3087.0, 3088.0, 3089.0, 3090.0, 3091.0, 3092.0, 3093.0, 3094.0, 3095.0, 3096.0, 3097.0, 3098.0, 3099.0, 3100.0, 3101.0, 3102.0, 3103.0, 3104.0, 3105.0, 3106.0, 3107.0, 3108.0, 3109.0, 3110.0, 3111.0, 3112.0, 3113.0, 3114.0, 3115.0, 3116.0, 3117.0, 3118.0, 3119.0, 3120.0, 3121.0, 3122.0, 3123.0, 3124.0, 3125.0, 3126.0, 3127.0, 3128.0, 3129.0, 3130.0, 3131.0, 3132.0, 3133.0, 3134.0, 3135.0, 3136.0, 3137.0, 3138.0, 3139.0, 3140.0, 3141.0, 3142.0, 3143.0, 3144.0, 3145.0, 3146.0, 3147.0, 3148.0, 3149.0, 3150.0, 3151.0, 3152.0, 3153.0, 3154.0, 3155.0, 3156.0, 3157.0, 3158.0, 3159.0, 3160.0, 3161.0, 3162.0, 3163.0, 3164.0, 3165.0, 3166.0, 3167.0, 3168.0, 3169.0, 3170.0, 3171.0, 3172.0, 3173.0, 3174.0, 3175.0, 3176.0, 3177.0, 3178.0, 3179.0, 3180.0, 3181.0, 3182.0, 3183.0, 3184.0, 3185.0, 3186.0, 3187.0, 3188.0, 3189.0, 3190.0, 3191.0, 3192.0, 3193.0, 3194.0, 3195.0, 3196.0, 3197.0, 3198.0, 3199.0, 3200.0, 3201.0, 3202.0, 3203.0, 3204.0, 3205.0, 3206.0, 3207.0, 3208.0, 3209.0, 3210.0, 3211.0, 3212.0, 3213.0, 3214.0, 3215.0, 3216.0, 3217.0, 3218.0, 3219.0, 3220.0, 3221.0, 3222.0, 3223.0, 3224.0, 3225.0, 3226.0, 3227.0, 3228.0, 3229.0, 3230.0], \"yaxis\": \"y4\"}, {\"legendgroup\": \"group1\", \"line\": {\"color\": \"black\", \"dash\": \"dashdot\", \"width\": 2}, \"name\": \"Permeabilidad inferida\", \"showlegend\": false, \"type\": \"scatter\", \"x\": [0.007485827688388022, 0.013623792215355885, 0.012618920535854733, 0.015001153884723816, 0.02226042246658207, 0.021016730197606862, 0.00679603771591455, 0.010432426047113166, 0.013083883740303002, 0.022010714140779982, 0.022506058604819048, 0.11904250460347905, 0.11721564317434259, 0.13027647615607807, 0.10298156130641217, 0.0587584082144665, 0.027494816890798263, 0.04092974091818738, 0.03836103418975375, 0.1210863746947325, 0.052417312761601546, 0.03893742030288241, 0.018742584282489465, 0.01419829058793181, 0.020297765370518913, 0.011013321176969841, 0.010479107533216035, 0.010104651123913023, 0.030996183518269833, 0.013150903395974719, 0.019347273573264656, 0.010786683317889107, 0.005245117308241123, 0.005950052011672678, 0.004784307618944794, 0.008144463963803805, 0.014277484370966563, 0.017026038217439112, 0.1447900133954732, 140.14671585947593, 502.290101640022, 1212.9932553866806, 4506.97409510108, 708.1925663082019, 372.5070629280312, 192.29745669552338, 414.2087308514433, 431.46231380737385, 192.52108568571202, 355.08495868637186, 72.25348414654357, 149.95373826461426, 123.86865700009766, 691.3301643161959, 784.2996792462626, 468.719369958412, 300.0082854397914, 750.0724759792605, 221.61117536195871, 47.91817750545143, 68.67035971278233, 79.24601169804234, 214.89906999382956, 4.216075218211814, 5.91980139978088, 5.8267121017039365, 19.476787883982418, 1.1082898663561331, 5.480058495393478, 12.991422312111125, 8.786202658324628, 3.2979282281191638, 0.8067695603826057, 0.04375408042952949, 0.026424428882903337, 0.024391750118037042, 0.23404093494659756, 0.3593044054666929, 0.35544209495485846, 0.112594994030367, 0.1258057572170653, 0.3065568696959813, 0.1696115510348388, 0.12935787613804237, 0.05386981783982182, 0.03475286641775833, 0.011909124218323469, 0.01302377316331909, 0.02108674405669703, 0.04356914169149357, 0.07554128592754386, 0.029861557969290787, 0.015272770793403069, 0.020840338028445385, 0.012414730440933587, 0.009803027260736837, 0.013794590835001782, 0.015010976390322497, 0.010552838358089853, 0.008013618135845404, 0.012245660821189174, 0.009790342474327151, 0.021427694233875805, 0.027232486641473846, 0.05319070260538697, 0.029538180914489846, 0.025444004668408834, 3.8790596220168103, 10.56441305980726, 5.4954816666933874, 0.5802618019687346, 0.22031200347586044, 0.22061301811615658, 0.11382578001419551, 0.08400706971177896, 0.04184561807570808, 0.03395606396507053, 0.020328162286399252, 0.04167061182953214, 0.043480830738138736, 0.05010346888633544, 0.018046197342197468, 0.016334388971394116, 0.013761670784746648, 0.007088388743315544, 0.013602492345779107, 0.031171746531682577, 0.02221040864101612, 0.017772943049986632, 0.016142822011985605, 0.033375114135481124, 0.010914962892405329, 0.0065498209748755965, 0.005653013041393539, 0.004998153870658391, 0.006490311550889775, 0.010763297232437099, 0.008470291715242313, 0.006685086605992394, 0.004847938144525488, 0.013488987627171906, 0.01786631563741203, 0.008968094073163378, 0.011128838660596234, 0.015281728203687861, 0.021329512668701187, 0.020016732735754765, 0.013715380063054228, 0.4188012290998842, 16.81694865132731, 25.73381134173755, 51.750803567083274, 5.556734391575088, 45.9963908043422, 25.24834100296752, 7.077261998525741, 8.208287933495425, 1.051288732640082, 0.5122212300710131, 0.8759621734882715, 0.48529140733517756, 5.838601715881149, 1.8985193388809944, 3.673706057615056, 0.582346232440122, 0.2301121482166824, 0.13091323236284239, 0.24172585811592048, 0.11835100014405694, 0.09788399517908104, 0.3915346174337019, 0.9552049024407947, 0.07114393024672984, 0.07410752623697615, 0.2881078536395715, 0.10968325246368901, 0.08276763750154595, 0.3172535247898974, 0.33813065428317035, 0.2408434417950561, 0.10148020122702102, 1.0900222315624915, 0.4519010602674358], \"xaxis\": \"x4\", \"y\": [3048.0, 3049.0, 3050.0, 3051.0, 3052.0, 3053.0, 3054.0, 3055.0, 3056.0, 3057.0, 3058.0, 3059.0, 3060.0, 3061.0, 3062.0, 3063.0, 3064.0, 3065.0, 3066.0, 3067.0, 3068.0, 3069.0, 3070.0, 3071.0, 3072.0, 3073.0, 3074.0, 3075.0, 3076.0, 3077.0, 3078.0, 3079.0, 3080.0, 3081.0, 3082.0, 3083.0, 3084.0, 3085.0, 3086.0, 3087.0, 3088.0, 3089.0, 3090.0, 3091.0, 3092.0, 3093.0, 3094.0, 3095.0, 3096.0, 3097.0, 3098.0, 3099.0, 3100.0, 3101.0, 3102.0, 3103.0, 3104.0, 3105.0, 3106.0, 3107.0, 3108.0, 3109.0, 3110.0, 3111.0, 3112.0, 3113.0, 3114.0, 3115.0, 3116.0, 3117.0, 3118.0, 3119.0, 3120.0, 3121.0, 3122.0, 3123.0, 3124.0, 3125.0, 3126.0, 3127.0, 3128.0, 3129.0, 3130.0, 3131.0, 3132.0, 3133.0, 3134.0, 3135.0, 3136.0, 3137.0, 3138.0, 3139.0, 3140.0, 3141.0, 3142.0, 3143.0, 3144.0, 3145.0, 3146.0, 3147.0, 3148.0, 3149.0, 3150.0, 3151.0, 3152.0, 3153.0, 3154.0, 3155.0, 3156.0, 3157.0, 3158.0, 3159.0, 3160.0, 3161.0, 3162.0, 3163.0, 3164.0, 3165.0, 3166.0, 3167.0, 3168.0, 3169.0, 3170.0, 3171.0, 3172.0, 3173.0, 3174.0, 3175.0, 3176.0, 3177.0, 3178.0, 3179.0, 3180.0, 3181.0, 3182.0, 3183.0, 3184.0, 3185.0, 3186.0, 3187.0, 3188.0, 3189.0, 3190.0, 3191.0, 3192.0, 3193.0, 3194.0, 3195.0, 3196.0, 3197.0, 3198.0, 3199.0, 3200.0, 3201.0, 3202.0, 3203.0, 3204.0, 3205.0, 3206.0, 3207.0, 3208.0, 3209.0, 3210.0, 3211.0, 3212.0, 3213.0, 3214.0, 3215.0, 3216.0, 3217.0, 3218.0, 3219.0, 3220.0, 3221.0, 3222.0, 3223.0, 3224.0, 3225.0, 3226.0, 3227.0, 3228.0, 3229.0, 3230.0], \"yaxis\": \"y4\"}, {\"legendgroup\": \"group3\", \"marker\": {\"color\": \"yellow\", \"line\": {\"width\": 2}, \"size\": 9, \"symbol\": \"triangle-up\"}, \"mode\": \"markers\", \"name\": \"Nucleo\", \"showlegend\": false, \"type\": \"scatter\", \"x\": [null, null, null, null, null, null, null, null, null, null, null, null, null, null, null, null, null, null, null, null, null, null, null, null, null, null, null, null, null, null, null, null, null, null, null, null, null, null, 215.0, 240.0, 405.0, null, null, null, 438.0, null, 446.0, 395.0, null, 285.0, null, null, null, 315.0, null, 87.0, null, null, 371.0, 220.0, 278.0, null, null, null, null, 40.0, null, 1.7000000476837158, null, 19.0, null, null, null, null, null, null, null, null, null, null, null, null, null, null, null, null, null, null, null, null, null, null, null, null, null, null, null, null, null, null, null, null, null, null, null, null, null, 0.800000011920929, 4.699999809265137, 3.700000047683716, 0.8999999761581421, null, null, null, null, null, null, null, null, null, null, null, null, null, null, null, null, null, null, null, null, null, null, null, null, null, null, null, null, null, null, null, null, null, null, null, null, null, null, 2.0999999046325684, null, null, 58.0, null, null, null, null, null, null, null, null, null, null, null, null, null, null, null, null, null, null, null, null, null, null, null, null, null, null, null, null, null, null], \"xaxis\": \"x4\", \"y\": [3048.0, 3049.0, 3050.0, 3051.0, 3052.0, 3053.0, 3054.0, 3055.0, 3056.0, 3057.0, 3058.0, 3059.0, 3060.0, 3061.0, 3062.0, 3063.0, 3064.0, 3065.0, 3066.0, 3067.0, 3068.0, 3069.0, 3070.0, 3071.0, 3072.0, 3073.0, 3074.0, 3075.0, 3076.0, 3077.0, 3078.0, 3079.0, 3080.0, 3081.0, 3082.0, 3083.0, 3084.0, 3085.0, 3086.0, 3087.0, 3088.0, 3089.0, 3090.0, 3091.0, 3092.0, 3093.0, 3094.0, 3095.0, 3096.0, 3097.0, 3098.0, 3099.0, 3100.0, 3101.0, 3102.0, 3103.0, 3104.0, 3105.0, 3106.0, 3107.0, 3108.0, 3109.0, 3110.0, 3111.0, 3112.0, 3113.0, 3114.0, 3115.0, 3116.0, 3117.0, 3118.0, 3119.0, 3120.0, 3121.0, 3122.0, 3123.0, 3124.0, 3125.0, 3126.0, 3127.0, 3128.0, 3129.0, 3130.0, 3131.0, 3132.0, 3133.0, 3134.0, 3135.0, 3136.0, 3137.0, 3138.0, 3139.0, 3140.0, 3141.0, 3142.0, 3143.0, 3144.0, 3145.0, 3146.0, 3147.0, 3148.0, 3149.0, 3150.0, 3151.0, 3152.0, 3153.0, 3154.0, 3155.0, 3156.0, 3157.0, 3158.0, 3159.0, 3160.0, 3161.0, 3162.0, 3163.0, 3164.0, 3165.0, 3166.0, 3167.0, 3168.0, 3169.0, 3170.0, 3171.0, 3172.0, 3173.0, 3174.0, 3175.0, 3176.0, 3177.0, 3178.0, 3179.0, 3180.0, 3181.0, 3182.0, 3183.0, 3184.0, 3185.0, 3186.0, 3187.0, 3188.0, 3189.0, 3190.0, 3191.0, 3192.0, 3193.0, 3194.0, 3195.0, 3196.0, 3197.0, 3198.0, 3199.0, 3200.0, 3201.0, 3202.0, 3203.0, 3204.0, 3205.0, 3206.0, 3207.0, 3208.0, 3209.0, 3210.0, 3211.0, 3212.0, 3213.0, 3214.0, 3215.0, 3216.0, 3217.0, 3218.0, 3219.0, 3220.0, 3221.0, 3222.0, 3223.0, 3224.0, 3225.0, 3226.0, 3227.0, 3228.0, 3229.0, 3230.0], \"yaxis\": \"y4\"}],\n",
              "                        {\"annotations\": [{\"font\": {\"size\": 16}, \"showarrow\": false, \"text\": \"Regresi\\u00f3n Polin\\u00f3mica\", \"x\": 0.10625, \"xanchor\": \"center\", \"xref\": \"paper\", \"y\": 1.0, \"yanchor\": \"bottom\", \"yref\": \"paper\"}, {\"font\": {\"size\": 16}, \"showarrow\": false, \"text\": \"Regresi\\u00f3n Lineal\", \"x\": 0.36875, \"xanchor\": \"center\", \"xref\": \"paper\", \"y\": 1.0, \"yanchor\": \"bottom\", \"yref\": \"paper\"}, {\"font\": {\"size\": 16}, \"showarrow\": false, \"text\": \"Regresi\\u00f3n RBF\", \"x\": 0.6312500000000001, \"xanchor\": \"center\", \"xref\": \"paper\", \"y\": 1.0, \"yanchor\": \"bottom\", \"yref\": \"paper\"}, {\"font\": {\"size\": 16}, \"showarrow\": false, \"text\": \"Red Neuronal\", \"x\": 0.89375, \"xanchor\": \"center\", \"xref\": \"paper\", \"y\": 1.0, \"yanchor\": \"bottom\", \"yref\": \"paper\"}], \"height\": 800, \"template\": {\"data\": {\"bar\": [{\"error_x\": {\"color\": \"#2a3f5f\"}, \"error_y\": {\"color\": \"#2a3f5f\"}, \"marker\": {\"line\": {\"color\": \"#E5ECF6\", \"width\": 0.5}}, \"type\": \"bar\"}], \"barpolar\": [{\"marker\": {\"line\": {\"color\": \"#E5ECF6\", \"width\": 0.5}}, \"type\": \"barpolar\"}], \"carpet\": [{\"aaxis\": {\"endlinecolor\": \"#2a3f5f\", \"gridcolor\": \"white\", \"linecolor\": \"white\", \"minorgridcolor\": \"white\", \"startlinecolor\": \"#2a3f5f\"}, \"baxis\": {\"endlinecolor\": \"#2a3f5f\", \"gridcolor\": \"white\", \"linecolor\": \"white\", \"minorgridcolor\": \"white\", \"startlinecolor\": \"#2a3f5f\"}, \"type\": \"carpet\"}], \"choropleth\": [{\"colorbar\": {\"outlinewidth\": 0, \"ticks\": \"\"}, \"type\": \"choropleth\"}], \"contour\": [{\"colorbar\": {\"outlinewidth\": 0, \"ticks\": \"\"}, \"colorscale\": [[0.0, \"#0d0887\"], [0.1111111111111111, \"#46039f\"], [0.2222222222222222, \"#7201a8\"], [0.3333333333333333, \"#9c179e\"], [0.4444444444444444, \"#bd3786\"], [0.5555555555555556, \"#d8576b\"], [0.6666666666666666, \"#ed7953\"], [0.7777777777777778, \"#fb9f3a\"], [0.8888888888888888, \"#fdca26\"], [1.0, \"#f0f921\"]], \"type\": \"contour\"}], \"contourcarpet\": [{\"colorbar\": {\"outlinewidth\": 0, \"ticks\": \"\"}, \"type\": \"contourcarpet\"}], \"heatmap\": [{\"colorbar\": {\"outlinewidth\": 0, \"ticks\": \"\"}, \"colorscale\": [[0.0, \"#0d0887\"], [0.1111111111111111, \"#46039f\"], [0.2222222222222222, \"#7201a8\"], [0.3333333333333333, \"#9c179e\"], [0.4444444444444444, \"#bd3786\"], [0.5555555555555556, \"#d8576b\"], [0.6666666666666666, \"#ed7953\"], [0.7777777777777778, \"#fb9f3a\"], [0.8888888888888888, \"#fdca26\"], [1.0, \"#f0f921\"]], \"type\": \"heatmap\"}], \"heatmapgl\": [{\"colorbar\": {\"outlinewidth\": 0, \"ticks\": \"\"}, \"colorscale\": [[0.0, \"#0d0887\"], [0.1111111111111111, \"#46039f\"], [0.2222222222222222, \"#7201a8\"], [0.3333333333333333, \"#9c179e\"], [0.4444444444444444, \"#bd3786\"], [0.5555555555555556, \"#d8576b\"], [0.6666666666666666, \"#ed7953\"], [0.7777777777777778, \"#fb9f3a\"], [0.8888888888888888, \"#fdca26\"], [1.0, \"#f0f921\"]], \"type\": \"heatmapgl\"}], \"histogram\": [{\"marker\": {\"colorbar\": {\"outlinewidth\": 0, \"ticks\": \"\"}}, \"type\": \"histogram\"}], \"histogram2d\": [{\"colorbar\": {\"outlinewidth\": 0, \"ticks\": \"\"}, \"colorscale\": [[0.0, \"#0d0887\"], [0.1111111111111111, \"#46039f\"], [0.2222222222222222, \"#7201a8\"], [0.3333333333333333, \"#9c179e\"], [0.4444444444444444, \"#bd3786\"], [0.5555555555555556, \"#d8576b\"], [0.6666666666666666, \"#ed7953\"], [0.7777777777777778, \"#fb9f3a\"], [0.8888888888888888, \"#fdca26\"], [1.0, \"#f0f921\"]], \"type\": \"histogram2d\"}], \"histogram2dcontour\": [{\"colorbar\": {\"outlinewidth\": 0, \"ticks\": \"\"}, \"colorscale\": [[0.0, \"#0d0887\"], [0.1111111111111111, \"#46039f\"], [0.2222222222222222, \"#7201a8\"], [0.3333333333333333, \"#9c179e\"], [0.4444444444444444, \"#bd3786\"], [0.5555555555555556, \"#d8576b\"], [0.6666666666666666, \"#ed7953\"], [0.7777777777777778, \"#fb9f3a\"], [0.8888888888888888, \"#fdca26\"], [1.0, \"#f0f921\"]], \"type\": \"histogram2dcontour\"}], \"mesh3d\": [{\"colorbar\": {\"outlinewidth\": 0, \"ticks\": \"\"}, \"type\": \"mesh3d\"}], \"parcoords\": [{\"line\": {\"colorbar\": {\"outlinewidth\": 0, \"ticks\": \"\"}}, \"type\": \"parcoords\"}], \"pie\": [{\"automargin\": true, \"type\": \"pie\"}], \"scatter\": [{\"marker\": {\"colorbar\": {\"outlinewidth\": 0, \"ticks\": \"\"}}, \"type\": \"scatter\"}], \"scatter3d\": [{\"line\": {\"colorbar\": {\"outlinewidth\": 0, \"ticks\": \"\"}}, \"marker\": {\"colorbar\": {\"outlinewidth\": 0, \"ticks\": \"\"}}, \"type\": \"scatter3d\"}], \"scattercarpet\": [{\"marker\": {\"colorbar\": {\"outlinewidth\": 0, \"ticks\": \"\"}}, \"type\": \"scattercarpet\"}], \"scattergeo\": [{\"marker\": {\"colorbar\": {\"outlinewidth\": 0, \"ticks\": \"\"}}, \"type\": \"scattergeo\"}], \"scattergl\": [{\"marker\": {\"colorbar\": {\"outlinewidth\": 0, \"ticks\": \"\"}}, \"type\": \"scattergl\"}], \"scattermapbox\": [{\"marker\": {\"colorbar\": {\"outlinewidth\": 0, \"ticks\": \"\"}}, \"type\": \"scattermapbox\"}], \"scatterpolar\": [{\"marker\": {\"colorbar\": {\"outlinewidth\": 0, \"ticks\": \"\"}}, \"type\": \"scatterpolar\"}], \"scatterpolargl\": [{\"marker\": {\"colorbar\": {\"outlinewidth\": 0, \"ticks\": \"\"}}, \"type\": \"scatterpolargl\"}], \"scatterternary\": [{\"marker\": {\"colorbar\": {\"outlinewidth\": 0, \"ticks\": \"\"}}, \"type\": \"scatterternary\"}], \"surface\": [{\"colorbar\": {\"outlinewidth\": 0, \"ticks\": \"\"}, \"colorscale\": [[0.0, \"#0d0887\"], [0.1111111111111111, \"#46039f\"], [0.2222222222222222, \"#7201a8\"], [0.3333333333333333, \"#9c179e\"], [0.4444444444444444, \"#bd3786\"], [0.5555555555555556, \"#d8576b\"], [0.6666666666666666, \"#ed7953\"], [0.7777777777777778, \"#fb9f3a\"], [0.8888888888888888, \"#fdca26\"], [1.0, \"#f0f921\"]], \"type\": \"surface\"}], \"table\": [{\"cells\": {\"fill\": {\"color\": \"#EBF0F8\"}, \"line\": {\"color\": \"white\"}}, \"header\": {\"fill\": {\"color\": \"#C8D4E3\"}, \"line\": {\"color\": \"white\"}}, \"type\": \"table\"}]}, \"layout\": {\"annotationdefaults\": {\"arrowcolor\": \"#2a3f5f\", \"arrowhead\": 0, \"arrowwidth\": 1}, \"coloraxis\": {\"colorbar\": {\"outlinewidth\": 0, \"ticks\": \"\"}}, \"colorscale\": {\"diverging\": [[0, \"#8e0152\"], [0.1, \"#c51b7d\"], [0.2, \"#de77ae\"], [0.3, \"#f1b6da\"], [0.4, \"#fde0ef\"], [0.5, \"#f7f7f7\"], [0.6, \"#e6f5d0\"], [0.7, \"#b8e186\"], [0.8, \"#7fbc41\"], [0.9, \"#4d9221\"], [1, \"#276419\"]], \"sequential\": [[0.0, \"#0d0887\"], [0.1111111111111111, \"#46039f\"], [0.2222222222222222, \"#7201a8\"], [0.3333333333333333, \"#9c179e\"], [0.4444444444444444, \"#bd3786\"], [0.5555555555555556, \"#d8576b\"], [0.6666666666666666, \"#ed7953\"], [0.7777777777777778, \"#fb9f3a\"], [0.8888888888888888, \"#fdca26\"], [1.0, \"#f0f921\"]], \"sequentialminus\": [[0.0, \"#0d0887\"], [0.1111111111111111, \"#46039f\"], [0.2222222222222222, \"#7201a8\"], [0.3333333333333333, \"#9c179e\"], [0.4444444444444444, \"#bd3786\"], [0.5555555555555556, \"#d8576b\"], [0.6666666666666666, \"#ed7953\"], [0.7777777777777778, \"#fb9f3a\"], [0.8888888888888888, \"#fdca26\"], [1.0, \"#f0f921\"]]}, \"colorway\": [\"#636efa\", \"#EF553B\", \"#00cc96\", \"#ab63fa\", \"#FFA15A\", \"#19d3f3\", \"#FF6692\", \"#B6E880\", \"#FF97FF\", \"#FECB52\"], \"font\": {\"color\": \"#2a3f5f\"}, \"geo\": {\"bgcolor\": \"white\", \"lakecolor\": \"white\", \"landcolor\": \"#E5ECF6\", \"showlakes\": true, \"showland\": true, \"subunitcolor\": \"white\"}, \"hoverlabel\": {\"align\": \"left\"}, \"hovermode\": \"closest\", \"mapbox\": {\"style\": \"light\"}, \"paper_bgcolor\": \"white\", \"plot_bgcolor\": \"#E5ECF6\", \"polar\": {\"angularaxis\": {\"gridcolor\": \"white\", \"linecolor\": \"white\", \"ticks\": \"\"}, \"bgcolor\": \"#E5ECF6\", \"radialaxis\": {\"gridcolor\": \"white\", \"linecolor\": \"white\", \"ticks\": \"\"}}, \"scene\": {\"xaxis\": {\"backgroundcolor\": \"#E5ECF6\", \"gridcolor\": \"white\", \"gridwidth\": 2, \"linecolor\": \"white\", \"showbackground\": true, \"ticks\": \"\", \"zerolinecolor\": \"white\"}, \"yaxis\": {\"backgroundcolor\": \"#E5ECF6\", \"gridcolor\": \"white\", \"gridwidth\": 2, \"linecolor\": \"white\", \"showbackground\": true, \"ticks\": \"\", \"zerolinecolor\": \"white\"}, \"zaxis\": {\"backgroundcolor\": \"#E5ECF6\", \"gridcolor\": \"white\", \"gridwidth\": 2, \"linecolor\": \"white\", \"showbackground\": true, \"ticks\": \"\", \"zerolinecolor\": \"white\"}}, \"shapedefaults\": {\"line\": {\"color\": \"#2a3f5f\"}}, \"ternary\": {\"aaxis\": {\"gridcolor\": \"white\", \"linecolor\": \"white\", \"ticks\": \"\"}, \"baxis\": {\"gridcolor\": \"white\", \"linecolor\": \"white\", \"ticks\": \"\"}, \"bgcolor\": \"#E5ECF6\", \"caxis\": {\"gridcolor\": \"white\", \"linecolor\": \"white\", \"ticks\": \"\"}}, \"title\": {\"x\": 0.05}, \"xaxis\": {\"automargin\": true, \"gridcolor\": \"white\", \"linecolor\": \"white\", \"ticks\": \"\", \"title\": {\"standoff\": 15}, \"zerolinecolor\": \"white\", \"zerolinewidth\": 2}, \"yaxis\": {\"automargin\": true, \"gridcolor\": \"white\", \"linecolor\": \"white\", \"ticks\": \"\", \"title\": {\"standoff\": 15}, \"zerolinecolor\": \"white\", \"zerolinewidth\": 2}}}, \"width\": 1200, \"xaxis\": {\"anchor\": \"y\", \"domain\": [0.0, 0.2125], \"range\": [-3, 5], \"type\": \"log\"}, \"xaxis2\": {\"anchor\": \"y2\", \"domain\": [0.2625, 0.475], \"range\": [-3, 5], \"type\": \"log\"}, \"xaxis3\": {\"anchor\": \"y3\", \"domain\": [0.525, 0.7375], \"range\": [-3, 5], \"type\": \"log\"}, \"xaxis4\": {\"anchor\": \"y4\", \"domain\": [0.7875, 1.0], \"range\": [-3, 5], \"type\": \"log\"}, \"yaxis\": {\"anchor\": \"x\", \"autorange\": \"reversed\", \"domain\": [0.0, 1.0]}, \"yaxis2\": {\"anchor\": \"x2\", \"domain\": [0.0, 1.0], \"matches\": \"y\", \"showticklabels\": false}, \"yaxis3\": {\"anchor\": \"x3\", \"domain\": [0.0, 1.0], \"matches\": \"y\", \"showticklabels\": false}, \"yaxis4\": {\"anchor\": \"x4\", \"domain\": [0.0, 1.0], \"matches\": \"y\", \"showticklabels\": false}},\n",
              "                        {\"responsive\": true}\n",
              "                    ).then(function(){\n",
              "                            \n",
              "var gd = document.getElementById('e588e295-2ade-4b56-b8de-9044dde8196c');\n",
              "var x = new MutationObserver(function (mutations, observer) {{\n",
              "        var display = window.getComputedStyle(gd).display;\n",
              "        if (!display || display === 'none') {{\n",
              "            console.log([gd, 'removed!']);\n",
              "            Plotly.purge(gd);\n",
              "            observer.disconnect();\n",
              "        }}\n",
              "}});\n",
              "\n",
              "// Listen for the removal of the full notebook cells\n",
              "var notebookContainer = gd.closest('#notebook-container');\n",
              "if (notebookContainer) {{\n",
              "    x.observe(notebookContainer, {childList: true});\n",
              "}}\n",
              "\n",
              "// Listen for the clearing of the current output cell\n",
              "var outputEl = gd.closest('.output');\n",
              "if (outputEl) {{\n",
              "    x.observe(outputEl, {childList: true});\n",
              "}}\n",
              "\n",
              "                        })\n",
              "                };\n",
              "                \n",
              "            </script>\n",
              "        </div>\n",
              "</body>\n",
              "</html>"
            ]
          },
          "metadata": {}
        }
      ],
      "source": [
        "fig = make_subplots(rows=1,cols=4,shared_yaxes=True,subplot_titles=('Regresión Polinómica','Regresión Lineal','Regresión RBF','Red Neuronal'))\n",
        "line=dict(width=2,dash='dashdot')\n",
        "for idx,modelo in enumerate([regre_poli,regre_lin,regre_rbf]):\n",
        "  x = np.exp(modelo.X@modelo.teta)\n",
        "  fig.add_trace(go.Scatter(x=GR_escalado,y=registros['DEPTH'],name='Permeabilidad real',showlegend=False,legendgroup='group2',line_color='red'),row=1,col=idx+1)\n",
        "  fig.add_trace(go.Scatter(x=x.flatten(),y=registros['DEPTH'],name='Permeabilidad inferida',showlegend=False,legendgroup='group1',line_color='black',line=line),row=1,col=idx+1)\n",
        "  fig.add_trace(go.Scatter(x=registros['PermNuc'],y=registros['DEPTH'],mode='markers',showlegend=False,legendgroup='group3',name='Nucleo',marker_symbol='triangle-up',marker=dict(color='yellow',size=9,line=dict(width=2))),row=1,col=idx+1)\n",
        "####\n",
        "fig.add_trace(go.Scatter(x=GR_escalado,y=registros['DEPTH'],name='Permeabilidad real',showlegend=False,legendgroup='group2',line_color='red'),row=1,col=4)\n",
        "fig.add_trace(go.Scatter(x=np.exp(red.neuronas['a3']).flatten(),y=registros['DEPTH'],name='Permeabilidad inferida',showlegend=False,line_color='black',line=line,legendgroup='group1'),row=1,col=4)\n",
        "fig.add_trace(go.Scatter(x=registros['PermNuc'],y=registros['DEPTH'],mode='markers',showlegend=False,legendgroup='group3',name='Nucleo',marker_symbol='triangle-up',marker=dict(color='yellow',size=9,line=dict(width=2))),row=1,col=4)\n",
        "####\n",
        "fig['data'][0]['showlegend'] = True\n",
        "fig['data'][8]['showlegend'] = True\n",
        "fig['data'][4]['showlegend'] = True\n",
        "fig['layout']['yaxis']['autorange'] = \"reversed\"\n",
        "####\n",
        "fig.update_xaxes(type='log',range=[-3,5])\n",
        "fig.update_layout(width=1200,height=800)\n",
        "fig.show()"
      ]
    },
    {
      "cell_type": "code",
      "source": [
        ""
      ],
      "metadata": {
        "id": "6stVhbhd97Jl"
      },
      "execution_count": null,
      "outputs": []
    }
  ],
  "metadata": {
    "colab": {
      "collapsed_sections": [],
      "name": "Permeabilidad.ipynb",
      "provenance": [],
      "include_colab_link": true
    },
    "interpreter": {
      "hash": "d330db26f41f65a9d26968c5e9e1396892ad1ba79a81b4332e29df8174ca65d2"
    },
    "kernelspec": {
      "display_name": "Python 3.9.5 64-bit ('Normal': conda)",
      "language": "python",
      "name": "python3"
    },
    "language_info": {
      "codemirror_mode": {
        "name": "ipython",
        "version": 3
      },
      "file_extension": ".py",
      "mimetype": "text/x-python",
      "name": "python",
      "nbconvert_exporter": "python",
      "pygments_lexer": "ipython3",
      "version": "3.9.5"
    }
  },
  "nbformat": 4,
  "nbformat_minor": 0
}